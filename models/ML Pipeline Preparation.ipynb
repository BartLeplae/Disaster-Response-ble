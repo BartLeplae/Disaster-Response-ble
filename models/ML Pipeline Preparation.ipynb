{
 "cells": [
  {
   "cell_type": "markdown",
   "metadata": {},
   "source": [
    "# ML Pipeline Preparation\n",
    "Follow the instructions below to help you create your ML pipeline.\n",
    "### 1. Import libraries and load data from database.\n",
    "- Import Python libraries\n",
    "- Load dataset from database with [`read_sql_table`](https://pandas.pydata.org/pandas-docs/stable/generated/pandas.read_sql_table.html)\n",
    "- Define feature and target variables X and Y"
   ]
  },
  {
   "cell_type": "code",
   "execution_count": 1,
   "metadata": {},
   "outputs": [],
   "source": [
    "# import libraries\n",
    "import pandas as pd\n",
    "import numpy as np\n",
    "import nltk\n",
    "import string\n",
    "from nltk import word_tokenize\n",
    "from nltk.corpus import stopwords\n",
    "from sqlalchemy import create_engine\n",
    "import sqlite3\n",
    "from sklearn import model_selection\n",
    "from sklearn.feature_extraction.text import TfidfVectorizer\n",
    "from sklearn.linear_model import LogisticRegression\n",
    "from sklearn.pipeline import Pipeline\n",
    "from sklearn.metrics import classification_report\n",
    "from sklearn.multioutput import MultiOutputClassifier"
   ]
  },
  {
   "cell_type": "code",
   "execution_count": 2,
   "metadata": {},
   "outputs": [
    {
     "data": {
      "text/plain": [
       "(26216, 39)"
      ]
     },
     "execution_count": 2,
     "metadata": {},
     "output_type": "execute_result"
    }
   ],
   "source": [
    "# load data from database\n",
    "engine = create_engine('sqlite:///../data/DisasterResponse.db')\n",
    "\n",
    "connection = engine.connect()\n",
    "query = \"SELECT * FROM DisasterMessages\"\n",
    "df = pd.read_sql(query, connection)\n",
    "connection.close()\n",
    "\n",
    "df.shape"
   ]
  },
  {
   "cell_type": "code",
   "execution_count": 3,
   "metadata": {},
   "outputs": [],
   "source": [
    "# Select X for analysis\n",
    "\n",
    "X = df[\"message\"].values"
   ]
  },
  {
   "cell_type": "code",
   "execution_count": 24,
   "metadata": {},
   "outputs": [
    {
     "data": {
      "text/plain": [
       "35"
      ]
     },
     "execution_count": 24,
     "metadata": {},
     "output_type": "execute_result"
    }
   ],
   "source": [
    "# Select Y for analysis\n",
    "\n",
    "N_CATEGORIES = 36 #number of category columns\n",
    "df_y = df.iloc[:,-N_CATEGORIES:]\n",
    "df_y_sufficient_data =  df_y.loc[:,(df_y.sum(axis=0) > 50)]\n",
    "Y = df_y_sufficient_data.values\n",
    "N_CATEGORIES = df_y_sufficient_data.shape[1]\n",
    "N_CATEGORIES # Columns with sufficient values\n",
    "# df_y_sufficient_data.columns"
   ]
  },
  {
   "cell_type": "markdown",
   "metadata": {},
   "source": [
    "### 2. Write a tokenization function to process your text data"
   ]
  },
  {
   "cell_type": "code",
   "execution_count": 10,
   "metadata": {},
   "outputs": [],
   "source": [
    "def tokenize(text):\n",
    "    # Bring to lowercase, remove stopwords and punctuation\n",
    "    stop = set(stopwords.words('english') + list(string.punctuation))\n",
    "    nltk_tokens = nltk.word_tokenize(text.lower())\n",
    "    tokens = [w for w in nltk_tokens if not w in stop]\n",
    "    return(tokens)\n"
   ]
  },
  {
   "cell_type": "markdown",
   "metadata": {},
   "source": [
    "### 3. Build a machine learning pipeline\n",
    "This machine pipeline should take in the `message` column as input and output classification results on the other 36 categories in the dataset. You may find the [MultiOutputClassifier](http://scikit-learn.org/stable/modules/generated/sklearn.multioutput.MultiOutputClassifier.html) helpful for predicting multiple target variables."
   ]
  },
  {
   "cell_type": "code",
   "execution_count": 11,
   "metadata": {},
   "outputs": [],
   "source": [
    "tfidf_vectorizer = TfidfVectorizer(tokenizer=tokenize)\n",
    "mo = MultiOutputClassifier(LogisticRegression(solver=\"liblinear\"))\n",
    "pipeline = Pipeline([('tfidf', tfidf_vectorizer), ('mo', mo)])"
   ]
  },
  {
   "cell_type": "markdown",
   "metadata": {},
   "source": [
    "### 4. Train pipeline\n",
    "- Split data into train and test sets\n"
   ]
  },
  {
   "cell_type": "code",
   "execution_count": 12,
   "metadata": {},
   "outputs": [],
   "source": [
    "X_train, X_validation, Y_train, Y_validation = model_selection.train_test_split(X, Y, test_size=0.2, random_state=42)"
   ]
  },
  {
   "cell_type": "markdown",
   "metadata": {},
   "source": [
    "- Train pipeline"
   ]
  },
  {
   "cell_type": "code",
   "execution_count": 14,
   "metadata": {},
   "outputs": [
    {
     "data": {
      "text/plain": [
       "Pipeline(steps=[('tfidf',\n",
       "                 TfidfVectorizer(tokenizer=<function tokenize at 0x0000020AEA0A3E50>)),\n",
       "                ('mo',\n",
       "                 MultiOutputClassifier(estimator=LogisticRegression(solver='liblinear')))])"
      ]
     },
     "execution_count": 14,
     "metadata": {},
     "output_type": "execute_result"
    }
   ],
   "source": [
    "pipeline.fit(X_train, Y_train)"
   ]
  },
  {
   "cell_type": "markdown",
   "metadata": {},
   "source": [
    "### 5. Test your model\n",
    "Report the f1 score, precision and recall for each output category of the dataset. You can do this by iterating through the columns and calling sklearn's `classification_report` on each."
   ]
  },
  {
   "cell_type": "code",
   "execution_count": 15,
   "metadata": {},
   "outputs": [],
   "source": [
    "Y_pred = pipeline.predict(X_validation)"
   ]
  },
  {
   "cell_type": "markdown",
   "metadata": {},
   "source": [
    "Report the classification results"
   ]
  },
  {
   "cell_type": "code",
   "execution_count": 28,
   "metadata": {},
   "outputs": [
    {
     "data": {
      "text/plain": [
       "['              precision    recall  f1-score   support\\n\\n           0       0.74      0.39      0.51      1266\\n           1       0.82      0.96      0.88      3938\\n           2       1.00      0.00      0.00        40\\n\\n    accuracy                           0.81      5244\\n   macro avg       0.85      0.45      0.46      5244\\nweighted avg       0.80      0.81      0.79      5244\\n',\n",
       " '              precision    recall  f1-score   support\\n\\n           0       0.91      0.98      0.94      4349\\n           1       0.83      0.53      0.65       895\\n\\n    accuracy                           0.90      5244\\n   macro avg       0.87      0.75      0.80      5244\\nweighted avg       0.90      0.90      0.89      5244\\n',\n",
       " '              precision    recall  f1-score   support\\n\\n           0       1.00      1.00      1.00      5218\\n           1       1.00      0.00      0.00        26\\n\\n    accuracy                           1.00      5244\\n   macro avg       1.00      0.50      0.50      5244\\nweighted avg       1.00      1.00      0.99      5244\\n',\n",
       " '              precision    recall  f1-score   support\\n\\n           0       0.79      0.87      0.83      3113\\n           1       0.78      0.66      0.71      2131\\n\\n    accuracy                           0.78      5244\\n   macro avg       0.78      0.76      0.77      5244\\nweighted avg       0.78      0.78      0.78      5244\\n',\n",
       " '              precision    recall  f1-score   support\\n\\n           0       0.93      0.99      0.96      4822\\n           1       0.67      0.16      0.26       422\\n\\n    accuracy                           0.93      5244\\n   macro avg       0.80      0.58      0.61      5244\\nweighted avg       0.91      0.93      0.90      5244\\n',\n",
       " '              precision    recall  f1-score   support\\n\\n           0       0.96      1.00      0.98      4974\\n           1       0.83      0.14      0.25       270\\n\\n    accuracy                           0.95      5244\\n   macro avg       0.89      0.57      0.61      5244\\nweighted avg       0.95      0.95      0.94      5244\\n',\n",
       " '              precision    recall  f1-score   support\\n\\n           0       0.98      1.00      0.99      5117\\n           1       1.00      0.05      0.09       127\\n\\n    accuracy                           0.98      5244\\n   macro avg       0.99      0.52      0.54      5244\\nweighted avg       0.98      0.98      0.97      5244\\n',\n",
       " '              precision    recall  f1-score   support\\n\\n           0       0.98      1.00      0.99      5156\\n           1       1.00      0.00      0.00        88\\n\\n    accuracy                           0.98      5244\\n   macro avg       0.99      0.50      0.50      5244\\nweighted avg       0.98      0.98      0.97      5244\\n',\n",
       " '              precision    recall  f1-score   support\\n\\n           0       0.97      1.00      0.99      5089\\n           1       0.52      0.07      0.12       155\\n\\n    accuracy                           0.97      5244\\n   macro avg       0.75      0.53      0.56      5244\\nweighted avg       0.96      0.97      0.96      5244\\n',\n",
       " '              precision    recall  f1-score   support\\n\\n           0       0.96      0.99      0.98      4905\\n           1       0.78      0.48      0.59       339\\n\\n    accuracy                           0.96      5244\\n   macro avg       0.87      0.73      0.78      5244\\nweighted avg       0.95      0.96      0.95      5244\\n',\n",
       " '              precision    recall  f1-score   support\\n\\n           0       0.95      0.99      0.97      4649\\n           1       0.87      0.59      0.70       595\\n\\n    accuracy                           0.94      5244\\n   macro avg       0.91      0.79      0.84      5244\\nweighted avg       0.94      0.94      0.94      5244\\n',\n",
       " '              precision    recall  f1-score   support\\n\\n           0       0.94      0.99      0.97      4774\\n           1       0.83      0.40      0.54       470\\n\\n    accuracy                           0.94      5244\\n   macro avg       0.89      0.69      0.75      5244\\nweighted avg       0.93      0.94      0.93      5244\\n',\n",
       " '              precision    recall  f1-score   support\\n\\n           0       0.99      1.00      0.99      5171\\n           1       0.79      0.15      0.25        73\\n\\n    accuracy                           0.99      5244\\n   macro avg       0.89      0.58      0.62      5244\\nweighted avg       0.99      0.99      0.98      5244\\n',\n",
       " '              precision    recall  f1-score   support\\n\\n           0       0.98      1.00      0.99      5140\\n           1       0.55      0.06      0.10       104\\n\\n    accuracy                           0.98      5244\\n   macro avg       0.76      0.53      0.55      5244\\nweighted avg       0.97      0.98      0.97      5244\\n',\n",
       " '              precision    recall  f1-score   support\\n\\n           0       0.99      1.00      0.99      5184\\n           1       1.00      0.02      0.03        60\\n\\n    accuracy                           0.99      5244\\n   macro avg       0.99      0.51      0.51      5244\\nweighted avg       0.99      0.99      0.98      5244\\n',\n",
       " '              precision    recall  f1-score   support\\n\\n           0       0.97      1.00      0.98      5073\\n           1       0.71      0.07      0.13       171\\n\\n    accuracy                           0.97      5244\\n   macro avg       0.84      0.53      0.56      5244\\nweighted avg       0.96      0.97      0.96      5244\\n',\n",
       " '              precision    recall  f1-score   support\\n\\n           0       0.97      1.00      0.98      5007\\n           1       0.92      0.24      0.38       237\\n\\n    accuracy                           0.96      5244\\n   macro avg       0.94      0.62      0.68      5244\\nweighted avg       0.96      0.96      0.95      5244\\n',\n",
       " '              precision    recall  f1-score   support\\n\\n           0       0.88      0.99      0.93      4549\\n           1       0.59      0.11      0.19       695\\n\\n    accuracy                           0.87      5244\\n   macro avg       0.73      0.55      0.56      5244\\nweighted avg       0.84      0.87      0.83      5244\\n',\n",
       " '              precision    recall  f1-score   support\\n\\n           0       0.94      1.00      0.97      4916\\n           1       0.67      0.02      0.05       328\\n\\n    accuracy                           0.94      5244\\n   macro avg       0.80      0.51      0.51      5244\\nweighted avg       0.92      0.94      0.91      5244\\n',\n",
       " '              precision    recall  f1-score   support\\n\\n           0       0.96      1.00      0.98      5004\\n           1       0.82      0.07      0.14       240\\n\\n    accuracy                           0.96      5244\\n   macro avg       0.89      0.54      0.56      5244\\nweighted avg       0.95      0.96      0.94      5244\\n',\n",
       " '              precision    recall  f1-score   support\\n\\n           0       0.96      1.00      0.98      4977\\n           1       0.85      0.17      0.28       267\\n\\n    accuracy                           0.96      5244\\n   macro avg       0.90      0.58      0.63      5244\\nweighted avg       0.95      0.96      0.94      5244\\n',\n",
       " '              precision    recall  f1-score   support\\n\\n           0       0.98      1.00      0.99      5122\\n           1       0.92      0.10      0.18       122\\n\\n    accuracy                           0.98      5244\\n   macro avg       0.95      0.55      0.58      5244\\nweighted avg       0.98      0.98      0.97      5244\\n',\n",
       " '              precision    recall  f1-score   support\\n\\n           0       0.99      1.00      1.00      5212\\n           1       1.00      0.00      0.00        32\\n\\n    accuracy                           0.99      5244\\n   macro avg       1.00      0.50      0.50      5244\\nweighted avg       0.99      0.99      0.99      5244\\n',\n",
       " '              precision    recall  f1-score   support\\n\\n           0       0.99      1.00      1.00      5198\\n           1       0.00      0.00      0.00        46\\n\\n    accuracy                           0.99      5244\\n   macro avg       0.50      0.50      0.50      5244\\nweighted avg       0.98      0.99      0.99      5244\\n',\n",
       " '              precision    recall  f1-score   support\\n\\n           0       1.00      1.00      1.00      5222\\n           1       1.00      0.00      0.00        22\\n\\n    accuracy                           1.00      5244\\n   macro avg       1.00      0.50      0.50      5244\\nweighted avg       1.00      1.00      0.99      5244\\n',\n",
       " '              precision    recall  f1-score   support\\n\\n           0       0.99      1.00      0.99      5177\\n           1       1.00      0.00      0.00        67\\n\\n    accuracy                           0.99      5244\\n   macro avg       0.99      0.50      0.50      5244\\nweighted avg       0.99      0.99      0.98      5244\\n',\n",
       " '              precision    recall  f1-score   support\\n\\n           0       0.96      1.00      0.98      5021\\n           1       0.50      0.00      0.01       223\\n\\n    accuracy                           0.96      5244\\n   macro avg       0.73      0.50      0.49      5244\\nweighted avg       0.94      0.96      0.94      5244\\n',\n",
       " '              precision    recall  f1-score   support\\n\\n           0       0.87      0.96      0.91      3806\\n           1       0.85      0.63      0.73      1438\\n\\n    accuracy                           0.87      5244\\n   macro avg       0.86      0.80      0.82      5244\\nweighted avg       0.87      0.87      0.86      5244\\n',\n",
       " '              precision    recall  f1-score   support\\n\\n           0       0.95      1.00      0.97      4833\\n           1       0.93      0.40      0.56       411\\n\\n    accuracy                           0.95      5244\\n   macro avg       0.94      0.70      0.77      5244\\nweighted avg       0.95      0.95      0.94      5244\\n',\n",
       " '              precision    recall  f1-score   support\\n\\n           0       0.94      0.99      0.96      4758\\n           1       0.75      0.40      0.52       486\\n\\n    accuracy                           0.93      5244\\n   macro avg       0.84      0.69      0.74      5244\\nweighted avg       0.92      0.93      0.92      5244\\n',\n",
       " '              precision    recall  f1-score   support\\n\\n           0       0.99      1.00      0.99      5191\\n           1       1.00      0.00      0.00        53\\n\\n    accuracy                           0.99      5244\\n   macro avg       0.99      0.50      0.50      5244\\nweighted avg       0.99      0.99      0.98      5244\\n',\n",
       " '              precision    recall  f1-score   support\\n\\n           0       0.96      0.99      0.98      4766\\n           1       0.89      0.63      0.74       478\\n\\n    accuracy                           0.96      5244\\n   macro avg       0.92      0.81      0.86      5244\\nweighted avg       0.96      0.96      0.96      5244\\n',\n",
       " '              precision    recall  f1-score   support\\n\\n           0       0.98      1.00      0.99      5127\\n           1       0.83      0.09      0.16       117\\n\\n    accuracy                           0.98      5244\\n   macro avg       0.91      0.54      0.57      5244\\nweighted avg       0.98      0.98      0.97      5244\\n',\n",
       " '              precision    recall  f1-score   support\\n\\n           0       0.95      1.00      0.97      4968\\n           1       0.50      0.03      0.05       276\\n\\n    accuracy                           0.95      5244\\n   macro avg       0.72      0.51      0.51      5244\\nweighted avg       0.92      0.95      0.92      5244\\n',\n",
       " '              precision    recall  f1-score   support\\n\\n           0       0.87      0.97      0.92      4223\\n           1       0.77      0.42      0.54      1021\\n\\n    accuracy                           0.86      5244\\n   macro avg       0.82      0.70      0.73      5244\\nweighted avg       0.85      0.86      0.85      5244\\n']"
      ]
     },
     "execution_count": 28,
     "metadata": {},
     "output_type": "execute_result"
    }
   ],
   "source": [
    "classification_result = list()\n",
    "\n",
    "for i in range(0,N_CATEGORIES):\n",
    "    classification_result.append(classification_report(Y_validation[:,i], Y_pred[:,i],zero_division=1))\n",
    "\n",
    "classification_result"
   ]
  },
  {
   "cell_type": "markdown",
   "metadata": {},
   "source": [
    "### 6. Improve your model\n",
    "Use grid search to find better parameters. "
   ]
  },
  {
   "cell_type": "code",
   "execution_count": null,
   "metadata": {},
   "outputs": [],
   "source": [
    "parameters = \n",
    "\n",
    "cv = "
   ]
  },
  {
   "cell_type": "markdown",
   "metadata": {},
   "source": [
    "### 7. Test your model\n",
    "Show the accuracy, precision, and recall of the tuned model.  \n",
    "\n",
    "Since this project focuses on code quality, process, and  pipelines, there is no minimum performance metric needed to pass. However, make sure to fine tune your models for accuracy, precision and recall to make your project stand out - especially for your portfolio!"
   ]
  },
  {
   "cell_type": "code",
   "execution_count": null,
   "metadata": {},
   "outputs": [],
   "source": [
    "print(classification_report(y_true, y_pred))\n"
   ]
  },
  {
   "cell_type": "markdown",
   "metadata": {},
   "source": [
    "### 8. Try improving your model further. Here are a few ideas:\n",
    "* try other machine learning algorithms\n",
    "* add other features besides the TF-IDF"
   ]
  },
  {
   "cell_type": "code",
   "execution_count": null,
   "metadata": {},
   "outputs": [],
   "source": []
  },
  {
   "cell_type": "markdown",
   "metadata": {},
   "source": [
    "### 9. Export your model as a pickle file"
   ]
  },
  {
   "cell_type": "code",
   "execution_count": null,
   "metadata": {},
   "outputs": [],
   "source": []
  },
  {
   "cell_type": "markdown",
   "metadata": {},
   "source": [
    "### 10. Use this notebook to complete `train.py`\n",
    "Use the template file attached in the Resources folder to write a script that runs the steps above to create a database and export a model based on a new dataset specified by the user."
   ]
  },
  {
   "cell_type": "code",
   "execution_count": null,
   "metadata": {},
   "outputs": [],
   "source": []
  }
 ],
 "metadata": {
  "kernelspec": {
   "display_name": "Python 3.9.5 ('env2')",
   "language": "python",
   "name": "python3"
  },
  "language_info": {
   "codemirror_mode": {
    "name": "ipython",
    "version": 3
   },
   "file_extension": ".py",
   "mimetype": "text/x-python",
   "name": "python",
   "nbconvert_exporter": "python",
   "pygments_lexer": "ipython3",
   "version": "3.9.5"
  },
  "vscode": {
   "interpreter": {
    "hash": "0273359becca1f4010586d28a12d4f1777d8dfdd7294c1564a95621ea6448071"
   }
  }
 },
 "nbformat": 4,
 "nbformat_minor": 2
}
