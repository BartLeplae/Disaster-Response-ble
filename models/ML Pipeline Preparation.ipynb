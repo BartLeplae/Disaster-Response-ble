{
 "cells": [
  {
   "cell_type": "markdown",
   "metadata": {},
   "source": [
    "# ML Pipeline Preparation\n",
    "Follow the instructions below to help you create your ML pipeline.\n",
    "### 1. Import libraries and load data from database.\n",
    "- Import Python libraries\n",
    "- Load dataset from database with [`read_sql_table`](https://pandas.pydata.org/pandas-docs/stable/generated/pandas.read_sql_table.html)\n",
    "- Define feature and target variables X and Y"
   ]
  },
  {
   "cell_type": "code",
   "execution_count": 112,
   "metadata": {},
   "outputs": [],
   "source": [
    "# import libraries\n",
    "import pandas as pd\n",
    "import numpy as np\n",
    "import nltk\n",
    "import string\n",
    "from nltk import word_tokenize\n",
    "from nltk.corpus import stopwords\n",
    "from sqlalchemy import create_engine\n",
    "from nltk.stem import WordNetLemmatizer\n",
    "import sqlite3\n",
    "from sklearn import model_selection\n",
    "from sklearn.feature_extraction.text import TfidfVectorizer\n",
    "from sklearn.linear_model import LogisticRegression\n",
    "from sklearn.pipeline import Pipeline\n",
    "from sklearn.metrics import classification_report\n",
    "from sklearn.multioutput import MultiOutputClassifier\n",
    "from sklearn.compose import ColumnTransformer\n",
    "from sklearn.preprocessing import OneHotEncoder\n",
    "import pickle\n",
    "from sklearn.base import BaseEstimator, TransformerMixin"
   ]
  },
  {
   "cell_type": "code",
   "execution_count": 113,
   "metadata": {},
   "outputs": [],
   "source": [
    "# load data from database\n",
    "engine = create_engine('sqlite:///../data/DisasterResponse.db')\n",
    "\n",
    "connection = engine.connect()\n",
    "query = \"SELECT * FROM DisasterMessages\"\n",
    "df = pd.read_sql(query, connection)\n",
    "connection.close()\n"
   ]
  },
  {
   "cell_type": "code",
   "execution_count": 114,
   "metadata": {},
   "outputs": [
    {
     "data": {
      "text/plain": [
       "(911, 39)"
      ]
     },
     "execution_count": 114,
     "metadata": {},
     "output_type": "execute_result"
    }
   ],
   "source": [
    "# Select X for analysis\n",
    "\n",
    "X = df[\"message\"].values\n",
    "df[df['message'].str.contains('\\!')].shape\n",
    "# df.shape"
   ]
  },
  {
   "cell_type": "code",
   "execution_count": 115,
   "metadata": {},
   "outputs": [
    {
     "data": {
      "text/plain": [
       "35"
      ]
     },
     "execution_count": 115,
     "metadata": {},
     "output_type": "execute_result"
    }
   ],
   "source": [
    "# Select Y for analysis\n",
    "\n",
    "N_CATEGORIES = 36 #number of category columns\n",
    "df_y = df.iloc[:,-N_CATEGORIES:]\n",
    "df_y_sufficient_data =  df_y.loc[:,(df_y.sum(axis=0) > 50)]\n",
    "Y = df_y_sufficient_data.values\n",
    "N_CATEGORIES = df_y_sufficient_data.shape[1]\n",
    "N_CATEGORIES # Columns with sufficient values\n",
    "# df_y_sufficient_data.columns"
   ]
  },
  {
   "cell_type": "markdown",
   "metadata": {},
   "source": [
    "### 2. Write a tokenization function to process your text data"
   ]
  },
  {
   "cell_type": "code",
   "execution_count": 116,
   "metadata": {},
   "outputs": [],
   "source": [
    "def tokenize(text):\n",
    "    # Bring to lowercase, remove stopwords and punctuation\n",
    "    stop = set(stopwords.words('english') + list(string.punctuation))\n",
    "    nltk_tokens = nltk.word_tokenize(text.lower())\n",
    "    tokens = [w for w in nltk_tokens if not w in stop]\n",
    "    lemmatizer = WordNetLemmatizer()\n",
    "    tokens = [lemmatizer.lemmatize(w) for w in tokens]\n",
    "    return(tokens)\n"
   ]
  },
  {
   "cell_type": "markdown",
   "metadata": {},
   "source": [
    "### 3. Build a machine learning pipeline\n",
    "This machine pipeline should take in the `message` column as input and output classification results on the other 36 categories in the dataset. You may find the [MultiOutputClassifier](http://scikit-learn.org/stable/modules/generated/sklearn.multioutput.MultiOutputClassifier.html) helpful for predicting multiple target variables."
   ]
  },
  {
   "cell_type": "code",
   "execution_count": 117,
   "metadata": {},
   "outputs": [],
   "source": [
    "tfidf_vectorizer = TfidfVectorizer(tokenizer=tokenize)\n",
    "mo = MultiOutputClassifier(LogisticRegression(solver=\"liblinear\"))\n",
    "pipeline = Pipeline([('tfidf', tfidf_vectorizer), ('mo', mo)])"
   ]
  },
  {
   "cell_type": "markdown",
   "metadata": {},
   "source": [
    "### 4. Train pipeline\n",
    "- Split data into train and test sets\n"
   ]
  },
  {
   "cell_type": "code",
   "execution_count": 118,
   "metadata": {},
   "outputs": [],
   "source": [
    "X_train, X_validation, Y_train, Y_validation = model_selection.train_test_split(X, Y, test_size=0.2, random_state=42)"
   ]
  },
  {
   "cell_type": "markdown",
   "metadata": {},
   "source": [
    "- Train pipeline"
   ]
  },
  {
   "cell_type": "code",
   "execution_count": 119,
   "metadata": {},
   "outputs": [
    {
     "data": {
      "text/plain": [
       "Pipeline(steps=[('tfidf',\n",
       "                 TfidfVectorizer(tokenizer=<function tokenize at 0x0000020A4CCD0670>)),\n",
       "                ('mo',\n",
       "                 MultiOutputClassifier(estimator=LogisticRegression(solver='liblinear')))])"
      ]
     },
     "execution_count": 119,
     "metadata": {},
     "output_type": "execute_result"
    }
   ],
   "source": [
    "pipeline.fit(X_train, Y_train)"
   ]
  },
  {
   "cell_type": "markdown",
   "metadata": {},
   "source": [
    "### 5. Test your model\n",
    "Report the f1 score, precision and recall for each output category of the dataset. You can do this by iterating through the columns and calling sklearn's `classification_report` on each."
   ]
  },
  {
   "cell_type": "code",
   "execution_count": 120,
   "metadata": {},
   "outputs": [],
   "source": [
    "Y_pred = pipeline.predict(X_validation)"
   ]
  },
  {
   "cell_type": "markdown",
   "metadata": {},
   "source": [
    "Report the classification results"
   ]
  },
  {
   "cell_type": "code",
   "execution_count": 121,
   "metadata": {},
   "outputs": [],
   "source": [
    "classification_result = list()\n",
    "\n",
    "for i in range(0,N_CATEGORIES):\n",
    "    weighted_avg = classification_report(Y_validation[:,i], Y_pred[:,i],zero_division=1,output_dict=True)['weighted avg']\n",
    "    classification_result.append(weighted_avg)\n",
    "\n",
    "df_result = pd.DataFrame(classification_result)"
   ]
  },
  {
   "cell_type": "markdown",
   "metadata": {},
   "source": [
    "Show the distribution of the results"
   ]
  },
  {
   "cell_type": "code",
   "execution_count": 122,
   "metadata": {},
   "outputs": [
    {
     "data": {
      "text/html": [
       "<div>\n",
       "<style scoped>\n",
       "    .dataframe tbody tr th:only-of-type {\n",
       "        vertical-align: middle;\n",
       "    }\n",
       "\n",
       "    .dataframe tbody tr th {\n",
       "        vertical-align: top;\n",
       "    }\n",
       "\n",
       "    .dataframe thead th {\n",
       "        text-align: right;\n",
       "    }\n",
       "</style>\n",
       "<table border=\"1\" class=\"dataframe\">\n",
       "  <thead>\n",
       "    <tr style=\"text-align: right;\">\n",
       "      <th></th>\n",
       "      <th>precision</th>\n",
       "      <th>recall</th>\n",
       "      <th>f1-score</th>\n",
       "      <th>support</th>\n",
       "    </tr>\n",
       "  </thead>\n",
       "  <tbody>\n",
       "    <tr>\n",
       "      <th>count</th>\n",
       "      <td>35.000000</td>\n",
       "      <td>35.000000</td>\n",
       "      <td>35.000000</td>\n",
       "      <td>35.0</td>\n",
       "    </tr>\n",
       "    <tr>\n",
       "      <th>mean</th>\n",
       "      <td>0.940969</td>\n",
       "      <td>0.947739</td>\n",
       "      <td>0.937077</td>\n",
       "      <td>5244.0</td>\n",
       "    </tr>\n",
       "    <tr>\n",
       "      <th>std</th>\n",
       "      <td>0.053837</td>\n",
       "      <td>0.050925</td>\n",
       "      <td>0.054672</td>\n",
       "      <td>0.0</td>\n",
       "    </tr>\n",
       "    <tr>\n",
       "      <th>min</th>\n",
       "      <td>0.782387</td>\n",
       "      <td>0.783371</td>\n",
       "      <td>0.780095</td>\n",
       "      <td>5244.0</td>\n",
       "    </tr>\n",
       "    <tr>\n",
       "      <th>25%</th>\n",
       "      <td>0.924600</td>\n",
       "      <td>0.939836</td>\n",
       "      <td>0.925083</td>\n",
       "      <td>5244.0</td>\n",
       "    </tr>\n",
       "    <tr>\n",
       "      <th>50%</th>\n",
       "      <td>0.954573</td>\n",
       "      <td>0.957666</td>\n",
       "      <td>0.952737</td>\n",
       "      <td>5244.0</td>\n",
       "    </tr>\n",
       "    <tr>\n",
       "      <th>75%</th>\n",
       "      <td>0.980086</td>\n",
       "      <td>0.981884</td>\n",
       "      <td>0.974058</td>\n",
       "      <td>5244.0</td>\n",
       "    </tr>\n",
       "    <tr>\n",
       "      <th>max</th>\n",
       "      <td>0.995822</td>\n",
       "      <td>0.995805</td>\n",
       "      <td>0.993712</td>\n",
       "      <td>5244.0</td>\n",
       "    </tr>\n",
       "  </tbody>\n",
       "</table>\n",
       "</div>"
      ],
      "text/plain": [
       "       precision     recall   f1-score  support\n",
       "count  35.000000  35.000000  35.000000     35.0\n",
       "mean    0.940969   0.947739   0.937077   5244.0\n",
       "std     0.053837   0.050925   0.054672      0.0\n",
       "min     0.782387   0.783371   0.780095   5244.0\n",
       "25%     0.924600   0.939836   0.925083   5244.0\n",
       "50%     0.954573   0.957666   0.952737   5244.0\n",
       "75%     0.980086   0.981884   0.974058   5244.0\n",
       "max     0.995822   0.995805   0.993712   5244.0"
      ]
     },
     "execution_count": 122,
     "metadata": {},
     "output_type": "execute_result"
    }
   ],
   "source": [
    "df_result.describe()"
   ]
  },
  {
   "cell_type": "markdown",
   "metadata": {},
   "source": [
    "### 6. Improve your model\n",
    "Use grid search to find better parameters. "
   ]
  },
  {
   "cell_type": "code",
   "execution_count": null,
   "metadata": {},
   "outputs": [
    {
     "data": {
      "text/plain": [
       "GridSearchCV(estimator=Pipeline(steps=[('tfidf',\n",
       "                                        TfidfVectorizer(tokenizer=<function tokenize at 0x00000184AFB11B80>)),\n",
       "                                       ('mo',\n",
       "                                        MultiOutputClassifier(estimator=LogisticRegression(solver='liblinear')))]),\n",
       "             param_grid={'tfidf__sublinear_tf': [True]})"
      ]
     },
     "execution_count": 12,
     "metadata": {},
     "output_type": "execute_result"
    }
   ],
   "source": [
    "tfidf_vectorizer = TfidfVectorizer(tokenizer=tokenize)\n",
    "mo = MultiOutputClassifier(LogisticRegression(solver=\"liblinear\"))\n",
    "pipeline = Pipeline([('tfidf', tfidf_vectorizer), ('mo', mo)])\n",
    "\n",
    "parameters = {\n",
    "    # 'tfidf__sublinear_tf': [True,False],\n",
    "    'tfidf__sublinear_tf': [True],\n",
    "}\n",
    "\n",
    "cv = model_selection.GridSearchCV(pipeline, parameters)\n",
    "\n",
    "cv.fit(X_train, Y_train)"
   ]
  },
  {
   "cell_type": "markdown",
   "metadata": {},
   "source": [
    "### 7. Test your model\n",
    "Show the accuracy, precision, and recall of the tuned model.  \n",
    "\n",
    "Since this project focuses on code quality, process, and  pipelines, there is no minimum performance metric needed to pass. However, make sure to fine tune your models for accuracy, precision and recall to make your project stand out - especially for your portfolio!"
   ]
  },
  {
   "cell_type": "code",
   "execution_count": null,
   "metadata": {},
   "outputs": [
    {
     "data": {
      "text/html": [
       "<div>\n",
       "<style scoped>\n",
       "    .dataframe tbody tr th:only-of-type {\n",
       "        vertical-align: middle;\n",
       "    }\n",
       "\n",
       "    .dataframe tbody tr th {\n",
       "        vertical-align: top;\n",
       "    }\n",
       "\n",
       "    .dataframe thead th {\n",
       "        text-align: right;\n",
       "    }\n",
       "</style>\n",
       "<table border=\"1\" class=\"dataframe\">\n",
       "  <thead>\n",
       "    <tr style=\"text-align: right;\">\n",
       "      <th></th>\n",
       "      <th>precision</th>\n",
       "      <th>recall</th>\n",
       "      <th>f1-score</th>\n",
       "      <th>support</th>\n",
       "    </tr>\n",
       "  </thead>\n",
       "  <tbody>\n",
       "    <tr>\n",
       "      <th>count</th>\n",
       "      <td>35.000000</td>\n",
       "      <td>35.000000</td>\n",
       "      <td>35.000000</td>\n",
       "      <td>35.0</td>\n",
       "    </tr>\n",
       "    <tr>\n",
       "      <th>mean</th>\n",
       "      <td>0.941237</td>\n",
       "      <td>0.947810</td>\n",
       "      <td>0.937146</td>\n",
       "      <td>5244.0</td>\n",
       "    </tr>\n",
       "    <tr>\n",
       "      <th>std</th>\n",
       "      <td>0.054039</td>\n",
       "      <td>0.050899</td>\n",
       "      <td>0.054592</td>\n",
       "      <td>0.0</td>\n",
       "    </tr>\n",
       "    <tr>\n",
       "      <th>min</th>\n",
       "      <td>0.781916</td>\n",
       "      <td>0.783181</td>\n",
       "      <td>0.780315</td>\n",
       "      <td>5244.0</td>\n",
       "    </tr>\n",
       "    <tr>\n",
       "      <th>25%</th>\n",
       "      <td>0.923644</td>\n",
       "      <td>0.939741</td>\n",
       "      <td>0.924863</td>\n",
       "      <td>5244.0</td>\n",
       "    </tr>\n",
       "    <tr>\n",
       "      <th>50%</th>\n",
       "      <td>0.955420</td>\n",
       "      <td>0.958238</td>\n",
       "      <td>0.953956</td>\n",
       "      <td>5244.0</td>\n",
       "    </tr>\n",
       "    <tr>\n",
       "      <th>75%</th>\n",
       "      <td>0.980571</td>\n",
       "      <td>0.981884</td>\n",
       "      <td>0.974058</td>\n",
       "      <td>5244.0</td>\n",
       "    </tr>\n",
       "    <tr>\n",
       "      <th>max</th>\n",
       "      <td>0.995822</td>\n",
       "      <td>0.995805</td>\n",
       "      <td>0.993712</td>\n",
       "      <td>5244.0</td>\n",
       "    </tr>\n",
       "  </tbody>\n",
       "</table>\n",
       "</div>"
      ],
      "text/plain": [
       "       precision     recall   f1-score  support\n",
       "count  35.000000  35.000000  35.000000     35.0\n",
       "mean    0.941237   0.947810   0.937146   5244.0\n",
       "std     0.054039   0.050899   0.054592      0.0\n",
       "min     0.781916   0.783181   0.780315   5244.0\n",
       "25%     0.923644   0.939741   0.924863   5244.0\n",
       "50%     0.955420   0.958238   0.953956   5244.0\n",
       "75%     0.980571   0.981884   0.974058   5244.0\n",
       "max     0.995822   0.995805   0.993712   5244.0"
      ]
     },
     "execution_count": 13,
     "metadata": {},
     "output_type": "execute_result"
    }
   ],
   "source": [
    "Y_pred =cv.predict(X_validation)\n",
    "\n",
    "classification_result_cv = list()\n",
    "\n",
    "for i in range(0,N_CATEGORIES):\n",
    "    # classification_result.append(classification_report(Y_validation[:,i], Y_pred[:,i],zero_division=1))\n",
    "    weighted_avg = classification_report(Y_validation[:,i], Y_pred[:,i],zero_division=1,output_dict=True)['weighted avg']\n",
    "    classification_result_cv.append(weighted_avg)\n",
    "\n",
    "df_result_cv = pd.DataFrame(classification_result_cv)\n",
    "df_result_cv.describe()"
   ]
  },
  {
   "cell_type": "code",
   "execution_count": null,
   "metadata": {},
   "outputs": [
    {
     "name": "stdout",
     "output_type": "stream",
     "text": [
      "\ttfidf__sublinear_tf: True\n"
     ]
    }
   ],
   "source": [
    "best_parameters = cv.best_estimator_.get_params()\n",
    "for param_name in sorted(parameters.keys()):\n",
    "    print(\"\\t%s: %r\" % (param_name, best_parameters[param_name]))"
   ]
  },
  {
   "cell_type": "markdown",
   "metadata": {},
   "source": [
    "### 8. Try improving your model further. Here are a few ideas:\n",
    "* try other machine learning algorithms\n",
    "* add other features besides the TF-IDF"
   ]
  },
  {
   "cell_type": "code",
   "execution_count": 73,
   "metadata": {},
   "outputs": [],
   "source": [
    "df_subset = df\n",
    "\n",
    "from sklearn.preprocessing import QuantileTransformer\n",
    "qt = QuantileTransformer(n_quantiles=10, random_state=0)\n",
    "df_subset[\"len\"] = df_subset[\"message\"].str.len()\n",
    "df_subset[\"len\"] = qt.fit_transform(df_subset[[\"len\"]])\n",
    "df_subset[\"question_mark\"] = 0\n",
    "df_subset[\"exclamation_mark\"] = 0\n",
    "df_subset.loc[df['message'].str.contains('\\?'),\"question_mark\"] = 1\n",
    "df_subset.loc[df['message'].str.contains('\\!'),\"exclamation_mark\"] = 1\n",
    "\n",
    "X = df_subset[[\"message\",\"genre\",\"len\",\"question_mark\",\"exclamation_mark\"]]\n",
    "\n",
    "N_CATEGORIES = 36 #number of category columns\n",
    "df_y = df_subset.iloc[:,-N_CATEGORIES-3:-3]\n",
    "df_y_sufficient_data =  df_y.loc[:,(df_y.sum(axis=0) > 50)]\n",
    "Y = df_y_sufficient_data.values\n",
    "N_CATEGORIES = df_y_sufficient_data.shape[1]\n",
    "\n",
    "X_train, X_validation, Y_train, Y_validation = model_selection.train_test_split(X, Y, test_size=0.2, random_state=42)\n",
    "\n",
    "tfidf_vectorizer = TfidfVectorizer(tokenizer=tokenize)\n",
    "onehot = OneHotEncoder(drop=\"first\")\n",
    "clmn = ColumnTransformer([(\"tfidf\", tfidf_vectorizer, \"message\"),(\"onehot\", onehot, [\"genre\"])], remainder=\"passthrough\")\n",
    "\n",
    "mo = MultiOutputClassifier(LogisticRegression(solver=\"liblinear\"))\n",
    "pipeline = Pipeline([('clmn', clmn), ('mo', mo)])\n",
    "\n",
    "pipeline.fit(X_train, Y_train)\n",
    "Y_pred = pipeline.predict(X_validation)\n",
    "classification_result = list()\n",
    "\n",
    "for i in range(0,N_CATEGORIES):\n",
    "    weighted_avg = classification_report(Y_validation[:,i], Y_pred[:,i],zero_division=1,output_dict=True)['weighted avg']\n",
    "    classification_result.append(weighted_avg)\n",
    "\n",
    "df_result = pd.DataFrame(classification_result)\n",
    "\n"
   ]
  },
  {
   "cell_type": "code",
   "execution_count": 77,
   "metadata": {},
   "outputs": [
    {
     "data": {
      "text/html": [
       "<div>\n",
       "<style scoped>\n",
       "    .dataframe tbody tr th:only-of-type {\n",
       "        vertical-align: middle;\n",
       "    }\n",
       "\n",
       "    .dataframe tbody tr th {\n",
       "        vertical-align: top;\n",
       "    }\n",
       "\n",
       "    .dataframe thead th {\n",
       "        text-align: right;\n",
       "    }\n",
       "</style>\n",
       "<table border=\"1\" class=\"dataframe\">\n",
       "  <thead>\n",
       "    <tr style=\"text-align: right;\">\n",
       "      <th></th>\n",
       "      <th>precision</th>\n",
       "      <th>recall</th>\n",
       "      <th>f1-score</th>\n",
       "      <th>support</th>\n",
       "    </tr>\n",
       "  </thead>\n",
       "  <tbody>\n",
       "    <tr>\n",
       "      <th>count</th>\n",
       "      <td>35.000000</td>\n",
       "      <td>35.000000</td>\n",
       "      <td>35.000000</td>\n",
       "      <td>35.0</td>\n",
       "    </tr>\n",
       "    <tr>\n",
       "      <th>mean</th>\n",
       "      <td>0.941986</td>\n",
       "      <td>0.948436</td>\n",
       "      <td>0.938584</td>\n",
       "      <td>5244.0</td>\n",
       "    </tr>\n",
       "    <tr>\n",
       "      <th>std</th>\n",
       "      <td>0.052801</td>\n",
       "      <td>0.050024</td>\n",
       "      <td>0.052985</td>\n",
       "      <td>0.0</td>\n",
       "    </tr>\n",
       "    <tr>\n",
       "      <th>min</th>\n",
       "      <td>0.774441</td>\n",
       "      <td>0.775744</td>\n",
       "      <td>0.773193</td>\n",
       "      <td>5244.0</td>\n",
       "    </tr>\n",
       "    <tr>\n",
       "      <th>25%</th>\n",
       "      <td>0.932555</td>\n",
       "      <td>0.941648</td>\n",
       "      <td>0.930894</td>\n",
       "      <td>5244.0</td>\n",
       "    </tr>\n",
       "    <tr>\n",
       "      <th>50%</th>\n",
       "      <td>0.955425</td>\n",
       "      <td>0.957857</td>\n",
       "      <td>0.953808</td>\n",
       "      <td>5244.0</td>\n",
       "    </tr>\n",
       "    <tr>\n",
       "      <th>75%</th>\n",
       "      <td>0.980969</td>\n",
       "      <td>0.982075</td>\n",
       "      <td>0.975564</td>\n",
       "      <td>5244.0</td>\n",
       "    </tr>\n",
       "    <tr>\n",
       "      <th>max</th>\n",
       "      <td>0.997527</td>\n",
       "      <td>0.997521</td>\n",
       "      <td>0.996283</td>\n",
       "      <td>5244.0</td>\n",
       "    </tr>\n",
       "  </tbody>\n",
       "</table>\n",
       "</div>"
      ],
      "text/plain": [
       "       precision     recall   f1-score  support\n",
       "count  35.000000  35.000000  35.000000     35.0\n",
       "mean    0.941986   0.948436   0.938584   5244.0\n",
       "std     0.052801   0.050024   0.052985      0.0\n",
       "min     0.774441   0.775744   0.773193   5244.0\n",
       "25%     0.932555   0.941648   0.930894   5244.0\n",
       "50%     0.955425   0.957857   0.953808   5244.0\n",
       "75%     0.980969   0.982075   0.975564   5244.0\n",
       "max     0.997527   0.997521   0.996283   5244.0"
      ]
     },
     "execution_count": 77,
     "metadata": {},
     "output_type": "execute_result"
    }
   ],
   "source": [
    "df_result.describe()"
   ]
  },
  {
   "cell_type": "code",
   "execution_count": 101,
   "metadata": {},
   "outputs": [
    {
     "data": {
      "text/html": [
       "<div>\n",
       "<style scoped>\n",
       "    .dataframe tbody tr th:only-of-type {\n",
       "        vertical-align: middle;\n",
       "    }\n",
       "\n",
       "    .dataframe tbody tr th {\n",
       "        vertical-align: top;\n",
       "    }\n",
       "\n",
       "    .dataframe thead th {\n",
       "        text-align: right;\n",
       "    }\n",
       "</style>\n",
       "<table border=\"1\" class=\"dataframe\">\n",
       "  <thead>\n",
       "    <tr style=\"text-align: right;\">\n",
       "      <th></th>\n",
       "      <th>precision</th>\n",
       "      <th>recall</th>\n",
       "      <th>f1-score</th>\n",
       "      <th>support</th>\n",
       "    </tr>\n",
       "  </thead>\n",
       "  <tbody>\n",
       "    <tr>\n",
       "      <th>count</th>\n",
       "      <td>35.000000</td>\n",
       "      <td>35.000000</td>\n",
       "      <td>35.000000</td>\n",
       "      <td>35.0</td>\n",
       "    </tr>\n",
       "    <tr>\n",
       "      <th>mean</th>\n",
       "      <td>0.941855</td>\n",
       "      <td>0.948970</td>\n",
       "      <td>0.942033</td>\n",
       "      <td>5244.0</td>\n",
       "    </tr>\n",
       "    <tr>\n",
       "      <th>std</th>\n",
       "      <td>0.054028</td>\n",
       "      <td>0.051263</td>\n",
       "      <td>0.053378</td>\n",
       "      <td>0.0</td>\n",
       "    </tr>\n",
       "    <tr>\n",
       "      <th>min</th>\n",
       "      <td>0.774418</td>\n",
       "      <td>0.776125</td>\n",
       "      <td>0.774169</td>\n",
       "      <td>5244.0</td>\n",
       "    </tr>\n",
       "    <tr>\n",
       "      <th>25%</th>\n",
       "      <td>0.929999</td>\n",
       "      <td>0.943650</td>\n",
       "      <td>0.935130</td>\n",
       "      <td>5244.0</td>\n",
       "    </tr>\n",
       "    <tr>\n",
       "      <th>50%</th>\n",
       "      <td>0.954993</td>\n",
       "      <td>0.959191</td>\n",
       "      <td>0.955845</td>\n",
       "      <td>5244.0</td>\n",
       "    </tr>\n",
       "    <tr>\n",
       "      <th>75%</th>\n",
       "      <td>0.979644</td>\n",
       "      <td>0.982933</td>\n",
       "      <td>0.977752</td>\n",
       "      <td>5244.0</td>\n",
       "    </tr>\n",
       "    <tr>\n",
       "      <th>max</th>\n",
       "      <td>0.995822</td>\n",
       "      <td>0.995805</td>\n",
       "      <td>0.993712</td>\n",
       "      <td>5244.0</td>\n",
       "    </tr>\n",
       "  </tbody>\n",
       "</table>\n",
       "</div>"
      ],
      "text/plain": [
       "       precision     recall   f1-score  support\n",
       "count  35.000000  35.000000  35.000000     35.0\n",
       "mean    0.941855   0.948970   0.942033   5244.0\n",
       "std     0.054028   0.051263   0.053378      0.0\n",
       "min     0.774418   0.776125   0.774169   5244.0\n",
       "25%     0.929999   0.943650   0.935130   5244.0\n",
       "50%     0.954993   0.959191   0.955845   5244.0\n",
       "75%     0.979644   0.982933   0.977752   5244.0\n",
       "max     0.995822   0.995805   0.993712   5244.0"
      ]
     },
     "execution_count": 101,
     "metadata": {},
     "output_type": "execute_result"
    }
   ],
   "source": [
    "df_subset = df\n",
    "\n",
    "from sklearn.preprocessing import QuantileTransformer\n",
    "qt = QuantileTransformer(n_quantiles=10, random_state=0)\n",
    "df_subset[\"len\"] = df_subset[\"message\"].str.len()\n",
    "df_subset[\"len\"] = qt.fit_transform(df_subset[[\"len\"]])\n",
    "df_subset[\"question_mark\"] = 0\n",
    "df_subset[\"exclamation_mark\"] = 0\n",
    "df_subset.loc[df['message'].str.contains('\\?'),\"question_mark\"] = 1\n",
    "df_subset.loc[df['message'].str.contains('\\!'),\"exclamation_mark\"] = 1\n",
    "\n",
    "X = df_subset[[\"message\",\"genre\",\"len\",\"question_mark\",\"exclamation_mark\"]]\n",
    "\n",
    "N_CATEGORIES = 36 #number of category columns\n",
    "df_y = df_subset.iloc[:,-N_CATEGORIES-3:-3]\n",
    "df_y_sufficient_data =  df_y.loc[:,(df_y.sum(axis=0) > 50)]\n",
    "Y = df_y_sufficient_data.values\n",
    "N_CATEGORIES = df_y_sufficient_data.shape[1]\n",
    "\n",
    "category_names = df_y_sufficient_data.columns.tolist()\n",
    "\n",
    "\n",
    "X_train, X_validation, Y_train, Y_validation = model_selection.train_test_split(X, Y, test_size=0.2, random_state=42)\n",
    "\n",
    "tfidf_vectorizer = TfidfVectorizer(tokenizer=tokenize, strip_accents=\"unicode\", sublinear_tf=True)\n",
    "onehot = OneHotEncoder(drop=\"first\")\n",
    "clmn = ColumnTransformer([(\"tfidf\", tfidf_vectorizer, \"message\"),(\"onehot\", onehot, [\"genre\"])], remainder=\"passthrough\")\n",
    "mo = MultiOutputClassifier(LogisticRegression(solver=\"liblinear\"))\n",
    "pipeline = Pipeline([('clmn', clmn), ('mo', mo)])\n",
    "\n",
    "parameters = [{\n",
    "    'clmn__tfidf__min_df': [25,50],\n",
    "    'mo__estimator__C': [5,1,0.5]\n",
    "}]\n",
    "\n",
    "cv = model_selection.GridSearchCV(pipeline, parameters)\n",
    "\n",
    "cv.fit(X_train, Y_train)\n",
    "\n",
    "Y_pred =cv.predict(X_validation)\n"
   ]
  },
  {
   "cell_type": "code",
   "execution_count": 107,
   "metadata": {},
   "outputs": [
    {
     "name": "stdout",
     "output_type": "stream",
     "text": [
      "\tclmn__tfidf__min_df: 25\n",
      "\tmo__estimator__C: 5\n",
      "related {'precision': 0.8108339913705812, 'recall': 0.8203661327231121, 'f1-score': 0.8118564037468191, 'support': 5244}\n",
      "request {'precision': 0.8992728498227341, 'recall': 0.9046529366895499, 'f1-score': 0.8984296486934442, 'support': 5244}\n",
      "offer {'precision': 0.9950665349408077, 'recall': 0.9950419527078566, 'f1-score': 0.9925690898928685, 'support': 5244}\n",
      "aid_related {'precision': 0.7744183644581214, 'recall': 0.7761250953470633, 'f1-score': 0.7741694122001581, 'support': 5244}\n",
      "medical_help {'precision': 0.910733242566277, 'recall': 0.9260106788710908, 'f1-score': 0.9131722647307952, 'support': 5244}\n",
      "medical_products {'precision': 0.9492001033208189, 'recall': 0.9570938215102975, 'f1-score': 0.9486330490257621, 'support': 5244}\n",
      "search_and_rescue {'precision': 0.9732833997751994, 'recall': 0.9780701754385965, 'f1-score': 0.9709390559031308, 'support': 5244}\n",
      "security {'precision': 0.9798555673950892, 'recall': 0.9836003051106026, 'f1-score': 0.9761797428982397, 'support': 5244}\n",
      "military {'precision': 0.9657797268495707, 'recall': 0.9721586575133486, 'f1-score': 0.967425249315189, 'support': 5244}\n",
      "water {'precision': 0.9549934539319997, 'recall': 0.9588100686498856, 'f1-score': 0.9558450049460183, 'support': 5244}\n",
      "food {'precision': 0.9459053967683989, 'recall': 0.948512585812357, 'f1-score': 0.9462385637318577, 'support': 5244}\n",
      "shelter {'precision': 0.9455198459197162, 'recall': 0.9494660564454614, 'f1-score': 0.9455810093103838, 'support': 5244}\n",
      "clothing {'precision': 0.9881533041186512, 'recall': 0.9897025171624714, 'f1-score': 0.9877794330575721, 'support': 5244}\n",
      "money {'precision': 0.9759289066439127, 'recall': 0.9805491990846682, 'f1-score': 0.9773563459727438, 'support': 5244}\n",
      "missing_people {'precision': 0.9885633783365645, 'recall': 0.9897025171624714, 'f1-score': 0.985790938607816, 'support': 5244}\n",
      "refugees {'precision': 0.9615220927876702, 'recall': 0.969488939740656, 'f1-score': 0.9626086043263644, 'support': 5244}\n",
      "death {'precision': 0.9661643597094323, 'recall': 0.9696796338672768, 'f1-score': 0.9653155844874137, 'support': 5244}\n",
      "other_aid {'precision': 0.8411358895154558, 'recall': 0.8712814645308925, 'f1-score': 0.8426421930360533, 'support': 5244}\n",
      "infrastructure_related {'precision': 0.901865575296299, 'recall': 0.9323035850495804, 'f1-score': 0.9116348486697398, 'support': 5244}\n",
      "transport {'precision': 0.9462056400390548, 'recall': 0.9572845156369184, 'f1-score': 0.9441621686070231, 'support': 5244}\n",
      "buildings {'precision': 0.9523374870632234, 'recall': 0.9591914569031273, 'f1-score': 0.9519485420279606, 'support': 5244}\n",
      "electricity {'precision': 0.9735713679556922, 'recall': 0.9788329519450801, 'f1-score': 0.9726313644782064, 'support': 5244}\n",
      "tools {'precision': 0.9939350249400571, 'recall': 0.9938977879481312, 'f1-score': 0.9908560196606082, 'support': 5244}\n",
      "hospitals {'precision': 0.9864119642492372, 'recall': 0.9910373760488177, 'f1-score': 0.9874523567766619, 'support': 5244}\n",
      "shops {'precision': 0.9958223295113052, 'recall': 0.9958047292143402, 'f1-score': 0.9937115031449043, 'support': 5244}\n",
      "aid_centers {'precision': 0.981549451304773, 'recall': 0.9872234935163997, 'f1-score': 0.9819227796926491, 'support': 5244}\n",
      "other_infrastructure {'precision': 0.9264321918871014, 'recall': 0.954233409610984, 'f1-score': 0.9370506051730751, 'support': 5244}\n",
      "weather_related {'precision': 0.8732406363713869, 'recall': 0.876048817696415, 'f1-score': 0.8723363935042897, 'support': 5244}\n",
      "floods {'precision': 0.9532001367756838, 'recall': 0.9565217391304348, 'f1-score': 0.9522968358206465, 'support': 5244}\n",
      "storm {'precision': 0.9335657390027743, 'recall': 0.9387871853546911, 'f1-score': 0.9348953720563109, 'support': 5244}\n",
      "fire {'precision': 0.9876232776921113, 'recall': 0.990465293668955, 'f1-score': 0.9873559265992988, 'support': 5244}\n",
      "earthquake {'precision': 0.9635297492590076, 'recall': 0.9651029748283753, 'f1-score': 0.9635544112567366, 'support': 5244}\n",
      "cold {'precision': 0.979431663633282, 'recall': 0.9822654462242563, 'f1-score': 0.978147154715386, 'support': 5244}\n",
      "other_weather {'precision': 0.9344345771549618, 'recall': 0.9492753623188406, 'f1-score': 0.9353653942742339, 'support': 5244}\n",
      "direct_report {'precision': 0.8554263909313945, 'recall': 0.8653699466056446, 'f1-score': 0.853298832987183, 'support': 5244}\n",
      "       precision     recall   f1-score  support\n",
      "count  35.000000  35.000000  35.000000     35.0\n",
      "mean    0.941855   0.948970   0.942033   5244.0\n",
      "std     0.054028   0.051263   0.053378      0.0\n",
      "min     0.774418   0.776125   0.774169   5244.0\n",
      "25%     0.929999   0.943650   0.935130   5244.0\n",
      "50%     0.954993   0.959191   0.955845   5244.0\n",
      "75%     0.979644   0.982933   0.977752   5244.0\n",
      "max     0.995822   0.995805   0.993712   5244.0\n"
     ]
    }
   ],
   "source": [
    "best_parameters = cv.best_estimator_.get_params()\n",
    "for param_name in sorted(best_parameters.keys()):\n",
    "    if param_name in ('clmn__tfidf__min_df','mo__estimator__C'):\n",
    "        print(\"\\t%s: %r\" % (param_name, best_parameters[param_name]))\n",
    "\n",
    "classification_result_cv = list()\n",
    "i = 0\n",
    "for category in category_names:\n",
    "    weighted_avg = classification_report(Y_validation[:,i], Y_pred[:,i],zero_division=1,output_dict=True)['weighted avg']\n",
    "    classification_result_cv.append(weighted_avg)\n",
    "    print(category,weighted_avg)\n",
    "    i += 1\n",
    "\n",
    "df_result_cv = pd.DataFrame(classification_result_cv)\n",
    "print(df_result_cv.describe())"
   ]
  },
  {
   "cell_type": "code",
   "execution_count": 108,
   "metadata": {},
   "outputs": [
    {
     "name": "stdout",
     "output_type": "stream",
     "text": [
      "\tclmn: ColumnTransformer(remainder='passthrough',\n",
      "                  transformers=[('tfidf',\n",
      "                                 TfidfVectorizer(min_df=25,\n",
      "                                                 strip_accents='unicode',\n",
      "                                                 sublinear_tf=True,\n",
      "                                                 tokenizer=<function tokenize at 0x0000020A413229D0>),\n",
      "                                 'message'),\n",
      "                                ('onehot', OneHotEncoder(drop='first'),\n",
      "                                 ['genre'])])\n",
      "\tclmn__n_jobs: None\n",
      "\tclmn__onehot: OneHotEncoder(drop='first')\n",
      "\tclmn__onehot__categories: 'auto'\n",
      "\tclmn__onehot__drop: 'first'\n",
      "\tclmn__onehot__dtype: <class 'numpy.float64'>\n",
      "\tclmn__onehot__handle_unknown: 'error'\n",
      "\tclmn__onehot__sparse: True\n",
      "\tclmn__remainder: 'passthrough'\n",
      "\tclmn__sparse_threshold: 0.3\n",
      "\tclmn__tfidf: TfidfVectorizer(min_df=25, strip_accents='unicode', sublinear_tf=True,\n",
      "                tokenizer=<function tokenize at 0x0000020A413229D0>)\n",
      "\tclmn__tfidf__analyzer: 'word'\n",
      "\tclmn__tfidf__binary: False\n",
      "\tclmn__tfidf__decode_error: 'strict'\n",
      "\tclmn__tfidf__dtype: <class 'numpy.float64'>\n",
      "\tclmn__tfidf__encoding: 'utf-8'\n",
      "\tclmn__tfidf__input: 'content'\n",
      "\tclmn__tfidf__lowercase: True\n",
      "\tclmn__tfidf__max_df: 1.0\n",
      "\tclmn__tfidf__max_features: None\n",
      "\tclmn__tfidf__min_df: 25\n",
      "\tclmn__tfidf__ngram_range: (1, 1)\n",
      "\tclmn__tfidf__norm: 'l2'\n",
      "\tclmn__tfidf__preprocessor: None\n",
      "\tclmn__tfidf__smooth_idf: True\n",
      "\tclmn__tfidf__stop_words: None\n",
      "\tclmn__tfidf__strip_accents: 'unicode'\n",
      "\tclmn__tfidf__sublinear_tf: True\n",
      "\tclmn__tfidf__token_pattern: '(?u)\\\\b\\\\w\\\\w+\\\\b'\n",
      "\tclmn__tfidf__tokenizer: <function tokenize at 0x0000020A413229D0>\n",
      "\tclmn__tfidf__use_idf: True\n",
      "\tclmn__tfidf__vocabulary: None\n",
      "\tclmn__transformer_weights: None\n",
      "\tclmn__transformers: [('tfidf', TfidfVectorizer(min_df=25, strip_accents='unicode', sublinear_tf=True,\n",
      "                tokenizer=<function tokenize at 0x0000020A413229D0>), 'message'), ('onehot', OneHotEncoder(drop='first'), ['genre'])]\n",
      "\tclmn__verbose: False\n",
      "\tclmn__verbose_feature_names_out: True\n",
      "\tmemory: None\n",
      "\tmo: MultiOutputClassifier(estimator=LogisticRegression(C=5, solver='liblinear'))\n",
      "\tmo__estimator: LogisticRegression(C=5, solver='liblinear')\n",
      "\tmo__estimator__C: 5\n",
      "\tmo__estimator__class_weight: None\n",
      "\tmo__estimator__dual: False\n",
      "\tmo__estimator__fit_intercept: True\n",
      "\tmo__estimator__intercept_scaling: 1\n",
      "\tmo__estimator__l1_ratio: None\n",
      "\tmo__estimator__max_iter: 100\n",
      "\tmo__estimator__multi_class: 'auto'\n",
      "\tmo__estimator__n_jobs: None\n",
      "\tmo__estimator__penalty: 'l2'\n",
      "\tmo__estimator__random_state: None\n",
      "\tmo__estimator__solver: 'liblinear'\n",
      "\tmo__estimator__tol: 0.0001\n",
      "\tmo__estimator__verbose: 0\n",
      "\tmo__estimator__warm_start: False\n",
      "\tmo__n_jobs: None\n",
      "\tsteps: [('clmn', ColumnTransformer(remainder='passthrough',\n",
      "                  transformers=[('tfidf',\n",
      "                                 TfidfVectorizer(min_df=25,\n",
      "                                                 strip_accents='unicode',\n",
      "                                                 sublinear_tf=True,\n",
      "                                                 tokenizer=<function tokenize at 0x0000020A413229D0>),\n",
      "                                 'message'),\n",
      "                                ('onehot', OneHotEncoder(drop='first'),\n",
      "                                 ['genre'])])), ('mo', MultiOutputClassifier(estimator=LogisticRegression(C=5, solver='liblinear')))]\n",
      "\tverbose: False\n"
     ]
    }
   ],
   "source": [
    "best_parameters = cv.best_estimator_.get_params()\n",
    "for param_name in sorted(best_parameters.keys()):\n",
    "    print(\"\\t%s: %r\" % (param_name, best_parameters[param_name]))\n"
   ]
  },
  {
   "cell_type": "markdown",
   "metadata": {},
   "source": [
    "clmn__tfidf__min_df: 25\n",
    "mo__estimator__C: 5"
   ]
  },
  {
   "cell_type": "markdown",
   "metadata": {},
   "source": [
    "### 9. Export your model as a pickle file"
   ]
  },
  {
   "cell_type": "code",
   "execution_count": null,
   "metadata": {},
   "outputs": [],
   "source": [
    "pickle.dump(pipeline, open('DisasterResponse.pkl', 'wb'))"
   ]
  },
  {
   "cell_type": "code",
   "execution_count": 109,
   "metadata": {},
   "outputs": [
    {
     "data": {
      "text/plain": [
       "array([[1, 0, 0, ..., 0, 0, 0],\n",
       "       [1, 0, 0, ..., 0, 0, 0],\n",
       "       [1, 0, 0, ..., 0, 0, 0],\n",
       "       ...,\n",
       "       [1, 0, 0, ..., 0, 0, 0],\n",
       "       [0, 0, 0, ..., 0, 0, 0],\n",
       "       [1, 0, 0, ..., 0, 0, 0]], dtype=int64)"
      ]
     },
     "execution_count": 109,
     "metadata": {},
     "output_type": "execute_result"
    }
   ],
   "source": [
    "pickled_model = pickle.load(open('DisasterResponse.pkl', 'rb'))\n",
    "pickled_model.predict(X_validation)"
   ]
  },
  {
   "cell_type": "markdown",
   "metadata": {},
   "source": [
    "### 10. Use this notebook to complete `train.py`\n",
    "Use the template file attached in the Resources folder to write a script that runs the steps above to create a database and export a model based on a new dataset specified by the user."
   ]
  },
  {
   "cell_type": "code",
   "execution_count": null,
   "metadata": {},
   "outputs": [],
   "source": []
  }
 ],
 "metadata": {
  "kernelspec": {
   "display_name": "Python 3.9.5 ('env2')",
   "language": "python",
   "name": "python3"
  },
  "language_info": {
   "codemirror_mode": {
    "name": "ipython",
    "version": 3
   },
   "file_extension": ".py",
   "mimetype": "text/x-python",
   "name": "python",
   "nbconvert_exporter": "python",
   "pygments_lexer": "ipython3",
   "version": "3.9.5"
  },
  "vscode": {
   "interpreter": {
    "hash": "0273359becca1f4010586d28a12d4f1777d8dfdd7294c1564a95621ea6448071"
   }
  }
 },
 "nbformat": 4,
 "nbformat_minor": 2
}
