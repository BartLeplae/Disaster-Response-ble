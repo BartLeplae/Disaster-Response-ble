{
 "cells": [
  {
   "cell_type": "markdown",
   "metadata": {},
   "source": [
    "# ML Pipeline Preparation\n",
    "Follow the instructions below to help you create your ML pipeline.\n",
    "### 1. Import libraries and load data from database.\n",
    "- Import Python libraries\n",
    "- Load dataset from database with [`read_sql_table`](https://pandas.pydata.org/pandas-docs/stable/generated/pandas.read_sql_table.html)\n",
    "- Define feature and target variables X and Y"
   ]
  },
  {
   "cell_type": "code",
   "execution_count": 1,
   "metadata": {},
   "outputs": [],
   "source": [
    "# import libraries\n",
    "import pandas as pd\n",
    "import numpy as np\n",
    "import nltk\n",
    "import string\n",
    "from nltk import word_tokenize\n",
    "from nltk.corpus import stopwords\n",
    "from sqlalchemy import create_engine\n",
    "import sqlite3\n",
    "from sklearn import model_selection\n",
    "from sklearn.feature_extraction.text import TfidfVectorizer\n",
    "from sklearn.linear_model import LogisticRegression\n",
    "from sklearn.pipeline import Pipeline\n",
    "from sklearn.metrics import classification_report\n",
    "from sklearn.multioutput import MultiOutputClassifier"
   ]
  },
  {
   "cell_type": "code",
   "execution_count": 2,
   "metadata": {},
   "outputs": [
    {
     "data": {
      "text/plain": [
       "(26216, 39)"
      ]
     },
     "execution_count": 2,
     "metadata": {},
     "output_type": "execute_result"
    }
   ],
   "source": [
    "# load data from database\n",
    "engine = create_engine('sqlite:///../data/DisasterResponse.db')\n",
    "\n",
    "connection = engine.connect()\n",
    "query = \"SELECT * FROM DisasterMessages\"\n",
    "df = pd.read_sql(query, connection)\n",
    "connection.close()\n",
    "\n",
    "df.shape"
   ]
  },
  {
   "cell_type": "code",
   "execution_count": 3,
   "metadata": {},
   "outputs": [],
   "source": [
    "# Select X for analysis\n",
    "\n",
    "X = df[\"message\"].values"
   ]
  },
  {
   "cell_type": "code",
   "execution_count": 4,
   "metadata": {},
   "outputs": [
    {
     "data": {
      "text/plain": [
       "35"
      ]
     },
     "execution_count": 4,
     "metadata": {},
     "output_type": "execute_result"
    }
   ],
   "source": [
    "# Select Y for analysis\n",
    "\n",
    "N_CATEGORIES = 36 #number of category columns\n",
    "df_y = df.iloc[:,-N_CATEGORIES:]\n",
    "df_y_sufficient_data =  df_y.loc[:,(df_y.sum(axis=0) > 50)]\n",
    "Y = df_y_sufficient_data.values\n",
    "N_CATEGORIES = df_y_sufficient_data.shape[1]\n",
    "N_CATEGORIES # Columns with sufficient values\n",
    "# df_y_sufficient_data.columns"
   ]
  },
  {
   "cell_type": "markdown",
   "metadata": {},
   "source": [
    "### 2. Write a tokenization function to process your text data"
   ]
  },
  {
   "cell_type": "code",
   "execution_count": 5,
   "metadata": {},
   "outputs": [],
   "source": [
    "def tokenize(text):\n",
    "    # Bring to lowercase, remove stopwords and punctuation\n",
    "    stop = set(stopwords.words('english') + list(string.punctuation))\n",
    "    nltk_tokens = nltk.word_tokenize(text.lower())\n",
    "    tokens = [w for w in nltk_tokens if not w in stop]\n",
    "    return(tokens)\n"
   ]
  },
  {
   "cell_type": "markdown",
   "metadata": {},
   "source": [
    "### 3. Build a machine learning pipeline\n",
    "This machine pipeline should take in the `message` column as input and output classification results on the other 36 categories in the dataset. You may find the [MultiOutputClassifier](http://scikit-learn.org/stable/modules/generated/sklearn.multioutput.MultiOutputClassifier.html) helpful for predicting multiple target variables."
   ]
  },
  {
   "cell_type": "code",
   "execution_count": 6,
   "metadata": {},
   "outputs": [],
   "source": [
    "tfidf_vectorizer = TfidfVectorizer(tokenizer=tokenize)\n",
    "mo = MultiOutputClassifier(LogisticRegression(solver=\"liblinear\"))\n",
    "pipeline = Pipeline([('tfidf', tfidf_vectorizer), ('mo', mo)])"
   ]
  },
  {
   "cell_type": "markdown",
   "metadata": {},
   "source": [
    "### 4. Train pipeline\n",
    "- Split data into train and test sets\n"
   ]
  },
  {
   "cell_type": "code",
   "execution_count": 7,
   "metadata": {},
   "outputs": [],
   "source": [
    "X_train, X_validation, Y_train, Y_validation = model_selection.train_test_split(X, Y, test_size=0.2, random_state=42)"
   ]
  },
  {
   "cell_type": "markdown",
   "metadata": {},
   "source": [
    "- Train pipeline"
   ]
  },
  {
   "cell_type": "code",
   "execution_count": 8,
   "metadata": {},
   "outputs": [
    {
     "data": {
      "text/plain": [
       "Pipeline(steps=[('tfidf',\n",
       "                 TfidfVectorizer(tokenizer=<function tokenize at 0x000001F05A1D3E50>)),\n",
       "                ('mo',\n",
       "                 MultiOutputClassifier(estimator=LogisticRegression(solver='liblinear')))])"
      ]
     },
     "execution_count": 8,
     "metadata": {},
     "output_type": "execute_result"
    }
   ],
   "source": [
    "pipeline.fit(X_train, Y_train)"
   ]
  },
  {
   "cell_type": "markdown",
   "metadata": {},
   "source": [
    "### 5. Test your model\n",
    "Report the f1 score, precision and recall for each output category of the dataset. You can do this by iterating through the columns and calling sklearn's `classification_report` on each."
   ]
  },
  {
   "cell_type": "code",
   "execution_count": 9,
   "metadata": {},
   "outputs": [],
   "source": [
    "Y_pred = pipeline.predict(X_validation)"
   ]
  },
  {
   "cell_type": "markdown",
   "metadata": {},
   "source": [
    "Report the classification results"
   ]
  },
  {
   "cell_type": "code",
   "execution_count": 27,
   "metadata": {},
   "outputs": [
    {
     "data": {
      "text/plain": [
       "[{'precision': 0.8037287649807435,\n",
       "  'recall': 0.8119755911517925,\n",
       "  'f1-score': 0.7873311537708536,\n",
       "  'support': 5244},\n",
       " {'precision': 0.8968208639701514,\n",
       "  'recall': 0.9016018306636155,\n",
       "  'f1-score': 0.8924236573324319,\n",
       "  'support': 5244},\n",
       " {'precision': 0.9950665349408077,\n",
       "  'recall': 0.9950419527078566,\n",
       "  'f1-score': 0.9925690898928685,\n",
       "  'support': 5244},\n",
       " {'precision': 0.783311520953859,\n",
       "  'recall': 0.7841342486651411,\n",
       "  'f1-score': 0.7807043767806096,\n",
       "  'support': 5244},\n",
       " {'precision': 0.9104145114672668,\n",
       "  'recall': 0.9262013729977117,\n",
       "  'f1-score': 0.9047424301580069,\n",
       "  'support': 5244},\n",
       " {'precision': 0.9490760140816503,\n",
       "  'recall': 0.9544241037376049,\n",
       "  'f1-score': 0.9388930927580632,\n",
       "  'support': 5244},\n",
       " {'precision': 0.977459029523441,\n",
       "  'recall': 0.9769260106788711,\n",
       "  'f1-score': 0.9665647596833076,\n",
       "  'support': 5244},\n",
       " {'precision': 0.983500521608801,\n",
       "  'recall': 0.9832189168573608,\n",
       "  'f1-score': 0.9748993721762601,\n",
       "  'support': 5244},\n",
       " {'precision': 0.9591695089015733,\n",
       "  'recall': 0.9706331045003814,\n",
       "  'f1-score': 0.9596444664085416,\n",
       "  'support': 5244},\n",
       " {'precision': 0.9528285842025429,\n",
       "  'recall': 0.9574752097635393,\n",
       "  'f1-score': 0.9526633092937242,\n",
       "  'support': 5244},\n",
       " {'precision': 0.9407209855197695,\n",
       "  'recall': 0.9435545385202135,\n",
       "  'f1-score': 0.9386341635784924,\n",
       "  'support': 5244},\n",
       " {'precision': 0.933292331925431,\n",
       "  'recall': 0.9385964912280702,\n",
       "  'f1-score': 0.9284848856152087,\n",
       "  'support': 5244},\n",
       " {'precision': 0.98532733967265,\n",
       "  'recall': 0.9876048817696415,\n",
       "  'f1-score': 0.9834370952304121,\n",
       "  'support': 5244},\n",
       " {'precision': 0.9726294645923248,\n",
       "  'recall': 0.9803585049580473,\n",
       "  'f1-score': 0.9725045578708968,\n",
       "  'support': 5244},\n",
       " {'precision': 0.9888756546267857,\n",
       "  'recall': 0.9887490465293669,\n",
       "  'f1-score': 0.9833398427779788,\n",
       "  'support': 5244},\n",
       " {'precision': 0.9609821519877364,\n",
       "  'recall': 0.9687261632341724,\n",
       "  'f1-score': 0.956150992877864,\n",
       "  'support': 5244},\n",
       " {'precision': 0.9631895177066551,\n",
       "  'recall': 0.9647215865751335,\n",
       "  'f1-score': 0.9547005963284073,\n",
       "  'support': 5244},\n",
       " {'precision': 0.8404316869447502,\n",
       "  'recall': 0.8718535469107551,\n",
       "  'f1-score': 0.8323385772864572,\n",
       "  'support': 5244},\n",
       " {'precision': 0.9218142417604975,\n",
       "  'recall': 0.9382151029748284,\n",
       "  'f1-score': 0.9104652621879983,\n",
       "  'support': 5244},\n",
       " {'precision': 0.9511120041730283,\n",
       "  'recall': 0.9569031273836766,\n",
       "  'f1-score': 0.9394328864980558,\n",
       "  'support': 5244},\n",
       " {'precision': 0.9517258022583966,\n",
       "  'recall': 0.956140350877193,\n",
       "  'f1-score': 0.9419363250031056,\n",
       "  'support': 5244},\n",
       " {'precision': 0.9776711459526065,\n",
       "  'recall': 0.9788329519450801,\n",
       "  'f1-score': 0.970399163286311,\n",
       "  'support': 5244},\n",
       " {'precision': 0.9939350249400571,\n",
       "  'recall': 0.9938977879481312,\n",
       "  'f1-score': 0.9908560196606082,\n",
       "  'support': 5244},\n",
       " {'precision': 0.9825314287052744,\n",
       "  'recall': 0.9910373760488177,\n",
       "  'f1-score': 0.986766072349728,\n",
       "  'support': 5244},\n",
       " {'precision': 0.9958223295113052,\n",
       "  'recall': 0.9958047292143402,\n",
       "  'f1-score': 0.9937115031449043,\n",
       "  'support': 5244},\n",
       " {'precision': 0.9873867326343252,\n",
       "  'recall': 0.9872234935163997,\n",
       "  'f1-score': 0.9808763124334327,\n",
       "  'support': 5244},\n",
       " {'precision': 0.9381882922973542,\n",
       "  'recall': 0.9574752097635393,\n",
       "  'f1-score': 0.9370486700662483,\n",
       "  'support': 5244},\n",
       " {'precision': 0.867185925401162,\n",
       "  'recall': 0.8688024408848207,\n",
       "  'f1-score': 0.8622022082458068,\n",
       "  'support': 5244},\n",
       " {'precision': 0.9493173739279146,\n",
       "  'recall': 0.950419527078566,\n",
       "  'f1-score': 0.9411399758572038,\n",
       "  'support': 5244},\n",
       " {'precision': 0.9235647312638869,\n",
       "  'recall': 0.9319221967963387,\n",
       "  'f1-score': 0.9225671942794734,\n",
       "  'support': 5244},\n",
       " {'precision': 0.9899953584671392,\n",
       "  'recall': 0.9898932112890922,\n",
       "  'f1-score': 0.9848654834310834,\n",
       "  'support': 5244},\n",
       " {'precision': 0.9567413082016005,\n",
       "  'recall': 0.9588100686498856,\n",
       "  'f1-score': 0.955629521879131,\n",
       "  'support': 5244},\n",
       " {'precision': 0.9762866823770635,\n",
       "  'recall': 0.9792143401983219,\n",
       "  'f1-score': 0.9708604029501916,\n",
       "  'support': 5244},\n",
       " {'precision': 0.9249572305524806,\n",
       "  'recall': 0.9473684210526315,\n",
       "  'f1-score': 0.924269553583155,\n",
       "  'support': 5244},\n",
       " {'precision': 0.8534829630194603,\n",
       "  'recall': 0.8627002288329519,\n",
       "  'f1-score': 0.8461870775879536,\n",
       "  'support': 5244}]"
      ]
     },
     "execution_count": 27,
     "metadata": {},
     "output_type": "execute_result"
    }
   ],
   "source": [
    "classification_result = list()\n",
    "\n",
    "for i in range(0,N_CATEGORIES):\n",
    "    # classification_result.append(classification_report(Y_validation[:,i], Y_pred[:,i],zero_division=1))\n",
    "    weighted_avg = classification_report(Y_validation[:,i], Y_pred[:,i],zero_division=1,output_dict=True)['weighted avg']\n",
    "    classification_result.append(weighted_avg)\n",
    "\n",
    "classification_result"
   ]
  },
  {
   "cell_type": "markdown",
   "metadata": {},
   "source": [
    "### 6. Improve your model\n",
    "Use grid search to find better parameters. "
   ]
  },
  {
   "cell_type": "code",
   "execution_count": 11,
   "metadata": {},
   "outputs": [
    {
     "ename": "SyntaxError",
     "evalue": "invalid syntax (Temp/ipykernel_14428/3277122076.py, line 1)",
     "output_type": "error",
     "traceback": [
      "\u001b[1;36m  File \u001b[1;32m\"C:\\Users\\BLEPLAE\\AppData\\Local\\Temp/ipykernel_14428/3277122076.py\"\u001b[1;36m, line \u001b[1;32m1\u001b[0m\n\u001b[1;33m    parameters =\u001b[0m\n\u001b[1;37m                 ^\u001b[0m\n\u001b[1;31mSyntaxError\u001b[0m\u001b[1;31m:\u001b[0m invalid syntax\n"
     ]
    }
   ],
   "source": [
    "parameters = \n",
    "\n",
    "cv = "
   ]
  },
  {
   "cell_type": "markdown",
   "metadata": {},
   "source": [
    "### 7. Test your model\n",
    "Show the accuracy, precision, and recall of the tuned model.  \n",
    "\n",
    "Since this project focuses on code quality, process, and  pipelines, there is no minimum performance metric needed to pass. However, make sure to fine tune your models for accuracy, precision and recall to make your project stand out - especially for your portfolio!"
   ]
  },
  {
   "cell_type": "code",
   "execution_count": null,
   "metadata": {},
   "outputs": [],
   "source": [
    "print(classification_report(y_true, y_pred))\n"
   ]
  },
  {
   "cell_type": "markdown",
   "metadata": {},
   "source": [
    "### 8. Try improving your model further. Here are a few ideas:\n",
    "* try other machine learning algorithms\n",
    "* add other features besides the TF-IDF"
   ]
  },
  {
   "cell_type": "code",
   "execution_count": null,
   "metadata": {},
   "outputs": [],
   "source": []
  },
  {
   "cell_type": "markdown",
   "metadata": {},
   "source": [
    "### 9. Export your model as a pickle file"
   ]
  },
  {
   "cell_type": "code",
   "execution_count": null,
   "metadata": {},
   "outputs": [],
   "source": []
  },
  {
   "cell_type": "markdown",
   "metadata": {},
   "source": [
    "### 10. Use this notebook to complete `train.py`\n",
    "Use the template file attached in the Resources folder to write a script that runs the steps above to create a database and export a model based on a new dataset specified by the user."
   ]
  },
  {
   "cell_type": "code",
   "execution_count": null,
   "metadata": {},
   "outputs": [],
   "source": []
  }
 ],
 "metadata": {
  "kernelspec": {
   "display_name": "Python 3.9.5 ('env2')",
   "language": "python",
   "name": "python3"
  },
  "language_info": {
   "codemirror_mode": {
    "name": "ipython",
    "version": 3
   },
   "file_extension": ".py",
   "mimetype": "text/x-python",
   "name": "python",
   "nbconvert_exporter": "python",
   "pygments_lexer": "ipython3",
   "version": "3.9.5"
  },
  "vscode": {
   "interpreter": {
    "hash": "0273359becca1f4010586d28a12d4f1777d8dfdd7294c1564a95621ea6448071"
   }
  }
 },
 "nbformat": 4,
 "nbformat_minor": 2
}
