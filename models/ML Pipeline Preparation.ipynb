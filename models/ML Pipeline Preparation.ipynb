{
 "cells": [
  {
   "cell_type": "markdown",
   "metadata": {},
   "source": [
    "# ML Pipeline Preparation\n",
    "Follow the instructions below to help you create your ML pipeline.\n",
    "### 1. Import libraries and load data from database.\n",
    "- Import Python libraries\n",
    "- Load dataset from database with [`read_sql_table`](https://pandas.pydata.org/pandas-docs/stable/generated/pandas.read_sql_table.html)\n",
    "- Define feature and target variables X and Y"
   ]
  },
  {
   "cell_type": "code",
   "execution_count": 1,
   "metadata": {},
   "outputs": [],
   "source": [
    "# import libraries\n",
    "import pandas as pd\n",
    "import numpy as np\n",
    "import nltk\n",
    "import string\n",
    "from nltk import word_tokenize\n",
    "from nltk.corpus import stopwords\n",
    "from sqlalchemy import create_engine\n",
    "import sqlite3\n",
    "from sklearn import model_selection\n",
    "from sklearn.feature_extraction.text import TfidfVectorizer\n",
    "from sklearn.linear_model import LogisticRegression\n",
    "from sklearn.pipeline import Pipeline\n",
    "from sklearn.metrics import classification_report\n",
    "from sklearn.multioutput import MultiOutputClassifier\n"
   ]
  },
  {
   "cell_type": "code",
   "execution_count": 2,
   "metadata": {},
   "outputs": [
    {
     "data": {
      "text/plain": [
       "(26216, 39)"
      ]
     },
     "execution_count": 2,
     "metadata": {},
     "output_type": "execute_result"
    }
   ],
   "source": [
    "# load data from database\n",
    "engine = create_engine('sqlite:///../data/DisasterResponse.db')\n",
    "\n",
    "connection = engine.connect()\n",
    "query = \"SELECT * FROM DisasterMessages\"\n",
    "df = pd.read_sql(query, connection)\n",
    "connection.close()\n",
    "\n",
    "df.shape"
   ]
  },
  {
   "cell_type": "code",
   "execution_count": 3,
   "metadata": {},
   "outputs": [],
   "source": [
    "# Select X for analysis\n",
    "\n",
    "X = df[\"message\"].values"
   ]
  },
  {
   "cell_type": "code",
   "execution_count": 4,
   "metadata": {},
   "outputs": [
    {
     "data": {
      "text/plain": [
       "35"
      ]
     },
     "execution_count": 4,
     "metadata": {},
     "output_type": "execute_result"
    }
   ],
   "source": [
    "# Select Y for analysis\n",
    "\n",
    "N_CATEGORIES = 36 #number of category columns\n",
    "df_y = df.iloc[:,-N_CATEGORIES:]\n",
    "df_y_sufficient_data =  df_y.loc[:,(df_y.sum(axis=0) > 50)]\n",
    "Y = df_y_sufficient_data.values\n",
    "N_CATEGORIES = df_y_sufficient_data.shape[1]\n",
    "N_CATEGORIES # Columns with sufficient values\n",
    "# df_y_sufficient_data.columns"
   ]
  },
  {
   "cell_type": "markdown",
   "metadata": {},
   "source": [
    "### 2. Write a tokenization function to process your text data"
   ]
  },
  {
   "cell_type": "code",
   "execution_count": 5,
   "metadata": {},
   "outputs": [],
   "source": [
    "def tokenize(text):\n",
    "    # Bring to lowercase, remove stopwords and punctuation\n",
    "    stop = set(stopwords.words('english') + list(string.punctuation))\n",
    "    nltk_tokens = nltk.word_tokenize(text.lower())\n",
    "    tokens = [w for w in nltk_tokens if not w in stop]\n",
    "    return(tokens)\n"
   ]
  },
  {
   "cell_type": "markdown",
   "metadata": {},
   "source": [
    "### 3. Build a machine learning pipeline\n",
    "This machine pipeline should take in the `message` column as input and output classification results on the other 36 categories in the dataset. You may find the [MultiOutputClassifier](http://scikit-learn.org/stable/modules/generated/sklearn.multioutput.MultiOutputClassifier.html) helpful for predicting multiple target variables."
   ]
  },
  {
   "cell_type": "code",
   "execution_count": 6,
   "metadata": {},
   "outputs": [],
   "source": [
    "tfidf_vectorizer = TfidfVectorizer(tokenizer=tokenize)\n",
    "mo = MultiOutputClassifier(LogisticRegression(solver=\"liblinear\"))\n",
    "pipeline = Pipeline([('tfidf', tfidf_vectorizer), ('mo', mo)])"
   ]
  },
  {
   "cell_type": "markdown",
   "metadata": {},
   "source": [
    "### 4. Train pipeline\n",
    "- Split data into train and test sets\n"
   ]
  },
  {
   "cell_type": "code",
   "execution_count": 7,
   "metadata": {},
   "outputs": [],
   "source": [
    "X_train, X_validation, Y_train, Y_validation = model_selection.train_test_split(X, Y, test_size=0.2, random_state=42)"
   ]
  },
  {
   "cell_type": "markdown",
   "metadata": {},
   "source": [
    "- Train pipeline"
   ]
  },
  {
   "cell_type": "code",
   "execution_count": 8,
   "metadata": {},
   "outputs": [
    {
     "data": {
      "text/plain": [
       "Pipeline(steps=[('tfidf',\n",
       "                 TfidfVectorizer(tokenizer=<function tokenize at 0x000001693A835DC0>)),\n",
       "                ('mo',\n",
       "                 MultiOutputClassifier(estimator=LogisticRegression(solver='liblinear')))])"
      ]
     },
     "execution_count": 8,
     "metadata": {},
     "output_type": "execute_result"
    }
   ],
   "source": [
    "pipeline.fit(X_train, Y_train)"
   ]
  },
  {
   "cell_type": "markdown",
   "metadata": {},
   "source": [
    "### 5. Test your model\n",
    "Report the f1 score, precision and recall for each output category of the dataset. You can do this by iterating through the columns and calling sklearn's `classification_report` on each."
   ]
  },
  {
   "cell_type": "code",
   "execution_count": 9,
   "metadata": {},
   "outputs": [],
   "source": [
    "Y_pred = pipeline.predict(X_validation)"
   ]
  },
  {
   "cell_type": "markdown",
   "metadata": {},
   "source": [
    "Report the classification results"
   ]
  },
  {
   "cell_type": "code",
   "execution_count": 11,
   "metadata": {},
   "outputs": [
    {
     "data": {
      "text/html": [
       "<div>\n",
       "<style scoped>\n",
       "    .dataframe tbody tr th:only-of-type {\n",
       "        vertical-align: middle;\n",
       "    }\n",
       "\n",
       "    .dataframe tbody tr th {\n",
       "        vertical-align: top;\n",
       "    }\n",
       "\n",
       "    .dataframe thead th {\n",
       "        text-align: right;\n",
       "    }\n",
       "</style>\n",
       "<table border=\"1\" class=\"dataframe\">\n",
       "  <thead>\n",
       "    <tr style=\"text-align: right;\">\n",
       "      <th></th>\n",
       "      <th>precision</th>\n",
       "      <th>recall</th>\n",
       "      <th>f1-score</th>\n",
       "      <th>support</th>\n",
       "    </tr>\n",
       "  </thead>\n",
       "  <tbody>\n",
       "    <tr>\n",
       "      <th>0</th>\n",
       "      <td>0.803729</td>\n",
       "      <td>0.811976</td>\n",
       "      <td>0.787331</td>\n",
       "      <td>5244</td>\n",
       "    </tr>\n",
       "    <tr>\n",
       "      <th>1</th>\n",
       "      <td>0.896821</td>\n",
       "      <td>0.901602</td>\n",
       "      <td>0.892424</td>\n",
       "      <td>5244</td>\n",
       "    </tr>\n",
       "    <tr>\n",
       "      <th>2</th>\n",
       "      <td>0.995067</td>\n",
       "      <td>0.995042</td>\n",
       "      <td>0.992569</td>\n",
       "      <td>5244</td>\n",
       "    </tr>\n",
       "    <tr>\n",
       "      <th>3</th>\n",
       "      <td>0.783312</td>\n",
       "      <td>0.784134</td>\n",
       "      <td>0.780704</td>\n",
       "      <td>5244</td>\n",
       "    </tr>\n",
       "    <tr>\n",
       "      <th>4</th>\n",
       "      <td>0.910415</td>\n",
       "      <td>0.926201</td>\n",
       "      <td>0.904742</td>\n",
       "      <td>5244</td>\n",
       "    </tr>\n",
       "    <tr>\n",
       "      <th>5</th>\n",
       "      <td>0.949076</td>\n",
       "      <td>0.954424</td>\n",
       "      <td>0.938893</td>\n",
       "      <td>5244</td>\n",
       "    </tr>\n",
       "    <tr>\n",
       "      <th>6</th>\n",
       "      <td>0.977459</td>\n",
       "      <td>0.976926</td>\n",
       "      <td>0.966565</td>\n",
       "      <td>5244</td>\n",
       "    </tr>\n",
       "    <tr>\n",
       "      <th>7</th>\n",
       "      <td>0.983501</td>\n",
       "      <td>0.983219</td>\n",
       "      <td>0.974899</td>\n",
       "      <td>5244</td>\n",
       "    </tr>\n",
       "    <tr>\n",
       "      <th>8</th>\n",
       "      <td>0.959170</td>\n",
       "      <td>0.970633</td>\n",
       "      <td>0.959644</td>\n",
       "      <td>5244</td>\n",
       "    </tr>\n",
       "    <tr>\n",
       "      <th>9</th>\n",
       "      <td>0.952829</td>\n",
       "      <td>0.957475</td>\n",
       "      <td>0.952663</td>\n",
       "      <td>5244</td>\n",
       "    </tr>\n",
       "    <tr>\n",
       "      <th>10</th>\n",
       "      <td>0.940721</td>\n",
       "      <td>0.943555</td>\n",
       "      <td>0.938634</td>\n",
       "      <td>5244</td>\n",
       "    </tr>\n",
       "    <tr>\n",
       "      <th>11</th>\n",
       "      <td>0.933292</td>\n",
       "      <td>0.938596</td>\n",
       "      <td>0.928485</td>\n",
       "      <td>5244</td>\n",
       "    </tr>\n",
       "    <tr>\n",
       "      <th>12</th>\n",
       "      <td>0.985327</td>\n",
       "      <td>0.987605</td>\n",
       "      <td>0.983437</td>\n",
       "      <td>5244</td>\n",
       "    </tr>\n",
       "    <tr>\n",
       "      <th>13</th>\n",
       "      <td>0.972629</td>\n",
       "      <td>0.980359</td>\n",
       "      <td>0.972505</td>\n",
       "      <td>5244</td>\n",
       "    </tr>\n",
       "    <tr>\n",
       "      <th>14</th>\n",
       "      <td>0.988876</td>\n",
       "      <td>0.988749</td>\n",
       "      <td>0.983340</td>\n",
       "      <td>5244</td>\n",
       "    </tr>\n",
       "    <tr>\n",
       "      <th>15</th>\n",
       "      <td>0.960982</td>\n",
       "      <td>0.968726</td>\n",
       "      <td>0.956151</td>\n",
       "      <td>5244</td>\n",
       "    </tr>\n",
       "    <tr>\n",
       "      <th>16</th>\n",
       "      <td>0.963190</td>\n",
       "      <td>0.964722</td>\n",
       "      <td>0.954701</td>\n",
       "      <td>5244</td>\n",
       "    </tr>\n",
       "    <tr>\n",
       "      <th>17</th>\n",
       "      <td>0.840432</td>\n",
       "      <td>0.871854</td>\n",
       "      <td>0.832339</td>\n",
       "      <td>5244</td>\n",
       "    </tr>\n",
       "    <tr>\n",
       "      <th>18</th>\n",
       "      <td>0.921814</td>\n",
       "      <td>0.938215</td>\n",
       "      <td>0.910465</td>\n",
       "      <td>5244</td>\n",
       "    </tr>\n",
       "    <tr>\n",
       "      <th>19</th>\n",
       "      <td>0.951112</td>\n",
       "      <td>0.956903</td>\n",
       "      <td>0.939433</td>\n",
       "      <td>5244</td>\n",
       "    </tr>\n",
       "    <tr>\n",
       "      <th>20</th>\n",
       "      <td>0.951726</td>\n",
       "      <td>0.956140</td>\n",
       "      <td>0.941936</td>\n",
       "      <td>5244</td>\n",
       "    </tr>\n",
       "    <tr>\n",
       "      <th>21</th>\n",
       "      <td>0.977671</td>\n",
       "      <td>0.978833</td>\n",
       "      <td>0.970399</td>\n",
       "      <td>5244</td>\n",
       "    </tr>\n",
       "    <tr>\n",
       "      <th>22</th>\n",
       "      <td>0.993935</td>\n",
       "      <td>0.993898</td>\n",
       "      <td>0.990856</td>\n",
       "      <td>5244</td>\n",
       "    </tr>\n",
       "    <tr>\n",
       "      <th>23</th>\n",
       "      <td>0.982531</td>\n",
       "      <td>0.991037</td>\n",
       "      <td>0.986766</td>\n",
       "      <td>5244</td>\n",
       "    </tr>\n",
       "    <tr>\n",
       "      <th>24</th>\n",
       "      <td>0.995822</td>\n",
       "      <td>0.995805</td>\n",
       "      <td>0.993712</td>\n",
       "      <td>5244</td>\n",
       "    </tr>\n",
       "    <tr>\n",
       "      <th>25</th>\n",
       "      <td>0.987387</td>\n",
       "      <td>0.987223</td>\n",
       "      <td>0.980876</td>\n",
       "      <td>5244</td>\n",
       "    </tr>\n",
       "    <tr>\n",
       "      <th>26</th>\n",
       "      <td>0.938188</td>\n",
       "      <td>0.957475</td>\n",
       "      <td>0.937049</td>\n",
       "      <td>5244</td>\n",
       "    </tr>\n",
       "    <tr>\n",
       "      <th>27</th>\n",
       "      <td>0.867186</td>\n",
       "      <td>0.868802</td>\n",
       "      <td>0.862202</td>\n",
       "      <td>5244</td>\n",
       "    </tr>\n",
       "    <tr>\n",
       "      <th>28</th>\n",
       "      <td>0.949317</td>\n",
       "      <td>0.950420</td>\n",
       "      <td>0.941140</td>\n",
       "      <td>5244</td>\n",
       "    </tr>\n",
       "    <tr>\n",
       "      <th>29</th>\n",
       "      <td>0.923565</td>\n",
       "      <td>0.931922</td>\n",
       "      <td>0.922567</td>\n",
       "      <td>5244</td>\n",
       "    </tr>\n",
       "    <tr>\n",
       "      <th>30</th>\n",
       "      <td>0.989995</td>\n",
       "      <td>0.989893</td>\n",
       "      <td>0.984865</td>\n",
       "      <td>5244</td>\n",
       "    </tr>\n",
       "    <tr>\n",
       "      <th>31</th>\n",
       "      <td>0.956741</td>\n",
       "      <td>0.958810</td>\n",
       "      <td>0.955630</td>\n",
       "      <td>5244</td>\n",
       "    </tr>\n",
       "    <tr>\n",
       "      <th>32</th>\n",
       "      <td>0.976287</td>\n",
       "      <td>0.979214</td>\n",
       "      <td>0.970860</td>\n",
       "      <td>5244</td>\n",
       "    </tr>\n",
       "    <tr>\n",
       "      <th>33</th>\n",
       "      <td>0.924957</td>\n",
       "      <td>0.947368</td>\n",
       "      <td>0.924270</td>\n",
       "      <td>5244</td>\n",
       "    </tr>\n",
       "    <tr>\n",
       "      <th>34</th>\n",
       "      <td>0.853483</td>\n",
       "      <td>0.862700</td>\n",
       "      <td>0.846187</td>\n",
       "      <td>5244</td>\n",
       "    </tr>\n",
       "  </tbody>\n",
       "</table>\n",
       "</div>"
      ],
      "text/plain": [
       "    precision    recall  f1-score  support\n",
       "0    0.803729  0.811976  0.787331     5244\n",
       "1    0.896821  0.901602  0.892424     5244\n",
       "2    0.995067  0.995042  0.992569     5244\n",
       "3    0.783312  0.784134  0.780704     5244\n",
       "4    0.910415  0.926201  0.904742     5244\n",
       "5    0.949076  0.954424  0.938893     5244\n",
       "6    0.977459  0.976926  0.966565     5244\n",
       "7    0.983501  0.983219  0.974899     5244\n",
       "8    0.959170  0.970633  0.959644     5244\n",
       "9    0.952829  0.957475  0.952663     5244\n",
       "10   0.940721  0.943555  0.938634     5244\n",
       "11   0.933292  0.938596  0.928485     5244\n",
       "12   0.985327  0.987605  0.983437     5244\n",
       "13   0.972629  0.980359  0.972505     5244\n",
       "14   0.988876  0.988749  0.983340     5244\n",
       "15   0.960982  0.968726  0.956151     5244\n",
       "16   0.963190  0.964722  0.954701     5244\n",
       "17   0.840432  0.871854  0.832339     5244\n",
       "18   0.921814  0.938215  0.910465     5244\n",
       "19   0.951112  0.956903  0.939433     5244\n",
       "20   0.951726  0.956140  0.941936     5244\n",
       "21   0.977671  0.978833  0.970399     5244\n",
       "22   0.993935  0.993898  0.990856     5244\n",
       "23   0.982531  0.991037  0.986766     5244\n",
       "24   0.995822  0.995805  0.993712     5244\n",
       "25   0.987387  0.987223  0.980876     5244\n",
       "26   0.938188  0.957475  0.937049     5244\n",
       "27   0.867186  0.868802  0.862202     5244\n",
       "28   0.949317  0.950420  0.941140     5244\n",
       "29   0.923565  0.931922  0.922567     5244\n",
       "30   0.989995  0.989893  0.984865     5244\n",
       "31   0.956741  0.958810  0.955630     5244\n",
       "32   0.976287  0.979214  0.970860     5244\n",
       "33   0.924957  0.947368  0.924270     5244\n",
       "34   0.853483  0.862700  0.846187     5244"
      ]
     },
     "execution_count": 11,
     "metadata": {},
     "output_type": "execute_result"
    }
   ],
   "source": [
    "classification_result = list()\n",
    "\n",
    "for i in range(0,N_CATEGORIES):\n",
    "    # classification_result.append(classification_report(Y_validation[:,i], Y_pred[:,i],zero_division=1))\n",
    "    weighted_avg = classification_report(Y_validation[:,i], Y_pred[:,i],zero_division=1,output_dict=True)['weighted avg']\n",
    "    classification_result.append(weighted_avg)\n",
    "\n",
    "df_result = pd.DataFrame(classification_result)"
   ]
  },
  {
   "cell_type": "markdown",
   "metadata": {},
   "source": [
    "Show the distribution of the results"
   ]
  },
  {
   "cell_type": "code",
   "execution_count": 13,
   "metadata": {},
   "outputs": [
    {
     "data": {
      "text/html": [
       "<div>\n",
       "<style scoped>\n",
       "    .dataframe tbody tr th:only-of-type {\n",
       "        vertical-align: middle;\n",
       "    }\n",
       "\n",
       "    .dataframe tbody tr th {\n",
       "        vertical-align: top;\n",
       "    }\n",
       "\n",
       "    .dataframe thead th {\n",
       "        text-align: right;\n",
       "    }\n",
       "</style>\n",
       "<table border=\"1\" class=\"dataframe\">\n",
       "  <thead>\n",
       "    <tr style=\"text-align: right;\">\n",
       "      <th></th>\n",
       "      <th>precision</th>\n",
       "      <th>recall</th>\n",
       "      <th>f1-score</th>\n",
       "      <th>support</th>\n",
       "    </tr>\n",
       "  </thead>\n",
       "  <tbody>\n",
       "    <tr>\n",
       "      <th>count</th>\n",
       "      <td>35.000000</td>\n",
       "      <td>35.000000</td>\n",
       "      <td>35.000000</td>\n",
       "      <td>35.0</td>\n",
       "    </tr>\n",
       "    <tr>\n",
       "      <th>mean</th>\n",
       "      <td>0.941101</td>\n",
       "      <td>0.947156</td>\n",
       "      <td>0.935978</td>\n",
       "      <td>5244.0</td>\n",
       "    </tr>\n",
       "    <tr>\n",
       "      <th>std</th>\n",
       "      <td>0.053897</td>\n",
       "      <td>0.051308</td>\n",
       "      <td>0.055210</td>\n",
       "      <td>0.0</td>\n",
       "    </tr>\n",
       "    <tr>\n",
       "      <th>min</th>\n",
       "      <td>0.783312</td>\n",
       "      <td>0.784134</td>\n",
       "      <td>0.780704</td>\n",
       "      <td>5244.0</td>\n",
       "    </tr>\n",
       "    <tr>\n",
       "      <th>25%</th>\n",
       "      <td>0.924261</td>\n",
       "      <td>0.938406</td>\n",
       "      <td>0.923418</td>\n",
       "      <td>5244.0</td>\n",
       "    </tr>\n",
       "    <tr>\n",
       "      <th>50%</th>\n",
       "      <td>0.952829</td>\n",
       "      <td>0.957475</td>\n",
       "      <td>0.952663</td>\n",
       "      <td>5244.0</td>\n",
       "    </tr>\n",
       "    <tr>\n",
       "      <th>75%</th>\n",
       "      <td>0.980101</td>\n",
       "      <td>0.981789</td>\n",
       "      <td>0.973702</td>\n",
       "      <td>5244.0</td>\n",
       "    </tr>\n",
       "    <tr>\n",
       "      <th>max</th>\n",
       "      <td>0.995822</td>\n",
       "      <td>0.995805</td>\n",
       "      <td>0.993712</td>\n",
       "      <td>5244.0</td>\n",
       "    </tr>\n",
       "  </tbody>\n",
       "</table>\n",
       "</div>"
      ],
      "text/plain": [
       "       precision     recall   f1-score  support\n",
       "count  35.000000  35.000000  35.000000     35.0\n",
       "mean    0.941101   0.947156   0.935978   5244.0\n",
       "std     0.053897   0.051308   0.055210      0.0\n",
       "min     0.783312   0.784134   0.780704   5244.0\n",
       "25%     0.924261   0.938406   0.923418   5244.0\n",
       "50%     0.952829   0.957475   0.952663   5244.0\n",
       "75%     0.980101   0.981789   0.973702   5244.0\n",
       "max     0.995822   0.995805   0.993712   5244.0"
      ]
     },
     "execution_count": 13,
     "metadata": {},
     "output_type": "execute_result"
    }
   ],
   "source": [
    "df_result.describe()"
   ]
  },
  {
   "cell_type": "markdown",
   "metadata": {},
   "source": [
    "### 6. Improve your model\n",
    "Use grid search to find better parameters. "
   ]
  },
  {
   "cell_type": "code",
   "execution_count": 29,
   "metadata": {},
   "outputs": [
    {
     "data": {
      "text/plain": [
       "GridSearchCV(estimator=Pipeline(steps=[('tfidf',\n",
       "                                        TfidfVectorizer(tokenizer=<function tokenize at 0x000001693A835DC0>)),\n",
       "                                       ('mo',\n",
       "                                        MultiOutputClassifier(estimator=LogisticRegression(solver='liblinear')))]),\n",
       "             param_grid={'tfidf__sublinear_tf': [True, False]})"
      ]
     },
     "execution_count": 29,
     "metadata": {},
     "output_type": "execute_result"
    }
   ],
   "source": [
    "tfidf_vectorizer = TfidfVectorizer(tokenizer=tokenize)\n",
    "mo = MultiOutputClassifier(LogisticRegression(solver=\"liblinear\"))\n",
    "pipeline = Pipeline([('tfidf', tfidf_vectorizer), ('mo', mo)])\n",
    "\n",
    "parameters = {\n",
    "    'tfidf__sublinear_tf': [True,False],\n",
    "}\n",
    "\n",
    "cv = model_selection.GridSearchCV(pipeline, parameters)\n",
    "\n",
    "cv.fit(X_train, Y_train)"
   ]
  },
  {
   "cell_type": "markdown",
   "metadata": {},
   "source": [
    "### 7. Test your model\n",
    "Show the accuracy, precision, and recall of the tuned model.  \n",
    "\n",
    "Since this project focuses on code quality, process, and  pipelines, there is no minimum performance metric needed to pass. However, make sure to fine tune your models for accuracy, precision and recall to make your project stand out - especially for your portfolio!"
   ]
  },
  {
   "cell_type": "code",
   "execution_count": 30,
   "metadata": {},
   "outputs": [
    {
     "data": {
      "text/html": [
       "<div>\n",
       "<style scoped>\n",
       "    .dataframe tbody tr th:only-of-type {\n",
       "        vertical-align: middle;\n",
       "    }\n",
       "\n",
       "    .dataframe tbody tr th {\n",
       "        vertical-align: top;\n",
       "    }\n",
       "\n",
       "    .dataframe thead th {\n",
       "        text-align: right;\n",
       "    }\n",
       "</style>\n",
       "<table border=\"1\" class=\"dataframe\">\n",
       "  <thead>\n",
       "    <tr style=\"text-align: right;\">\n",
       "      <th></th>\n",
       "      <th>precision</th>\n",
       "      <th>recall</th>\n",
       "      <th>f1-score</th>\n",
       "      <th>support</th>\n",
       "    </tr>\n",
       "  </thead>\n",
       "  <tbody>\n",
       "    <tr>\n",
       "      <th>count</th>\n",
       "      <td>35.000000</td>\n",
       "      <td>35.000000</td>\n",
       "      <td>35.000000</td>\n",
       "      <td>35.0</td>\n",
       "    </tr>\n",
       "    <tr>\n",
       "      <th>mean</th>\n",
       "      <td>0.941086</td>\n",
       "      <td>0.947172</td>\n",
       "      <td>0.935982</td>\n",
       "      <td>5244.0</td>\n",
       "    </tr>\n",
       "    <tr>\n",
       "      <th>std</th>\n",
       "      <td>0.053996</td>\n",
       "      <td>0.051300</td>\n",
       "      <td>0.055100</td>\n",
       "      <td>0.0</td>\n",
       "    </tr>\n",
       "    <tr>\n",
       "      <th>min</th>\n",
       "      <td>0.782408</td>\n",
       "      <td>0.783371</td>\n",
       "      <td>0.780067</td>\n",
       "      <td>5244.0</td>\n",
       "    </tr>\n",
       "    <tr>\n",
       "      <th>25%</th>\n",
       "      <td>0.922757</td>\n",
       "      <td>0.938692</td>\n",
       "      <td>0.923119</td>\n",
       "      <td>5244.0</td>\n",
       "    </tr>\n",
       "    <tr>\n",
       "      <th>50%</th>\n",
       "      <td>0.952343</td>\n",
       "      <td>0.957285</td>\n",
       "      <td>0.952423</td>\n",
       "      <td>5244.0</td>\n",
       "    </tr>\n",
       "    <tr>\n",
       "      <th>75%</th>\n",
       "      <td>0.980480</td>\n",
       "      <td>0.981884</td>\n",
       "      <td>0.973759</td>\n",
       "      <td>5244.0</td>\n",
       "    </tr>\n",
       "    <tr>\n",
       "      <th>max</th>\n",
       "      <td>0.995822</td>\n",
       "      <td>0.995805</td>\n",
       "      <td>0.993712</td>\n",
       "      <td>5244.0</td>\n",
       "    </tr>\n",
       "  </tbody>\n",
       "</table>\n",
       "</div>"
      ],
      "text/plain": [
       "       precision     recall   f1-score  support\n",
       "count  35.000000  35.000000  35.000000     35.0\n",
       "mean    0.941086   0.947172   0.935982   5244.0\n",
       "std     0.053996   0.051300   0.055100      0.0\n",
       "min     0.782408   0.783371   0.780067   5244.0\n",
       "25%     0.922757   0.938692   0.923119   5244.0\n",
       "50%     0.952343   0.957285   0.952423   5244.0\n",
       "75%     0.980480   0.981884   0.973759   5244.0\n",
       "max     0.995822   0.995805   0.993712   5244.0"
      ]
     },
     "execution_count": 30,
     "metadata": {},
     "output_type": "execute_result"
    }
   ],
   "source": [
    "Y_pred =cv.predict(X_validation)\n",
    "\n",
    "classification_result_cv = list()\n",
    "\n",
    "for i in range(0,N_CATEGORIES):\n",
    "    # classification_result.append(classification_report(Y_validation[:,i], Y_pred[:,i],zero_division=1))\n",
    "    weighted_avg = classification_report(Y_validation[:,i], Y_pred[:,i],zero_division=1,output_dict=True)['weighted avg']\n",
    "    classification_result_cv.append(weighted_avg)\n",
    "\n",
    "df_result_cv = pd.DataFrame(classification_result_cv)\n",
    "df_result_cv.describe()"
   ]
  },
  {
   "cell_type": "code",
   "execution_count": 31,
   "metadata": {},
   "outputs": [
    {
     "name": "stdout",
     "output_type": "stream",
     "text": [
      "\ttfidf__sublinear_tf: True\n"
     ]
    }
   ],
   "source": [
    "best_parameters = cv.best_estimator_.get_params()\n",
    "for param_name in sorted(parameters.keys()):\n",
    "    print(\"\\t%s: %r\" % (param_name, best_parameters[param_name]))"
   ]
  },
  {
   "cell_type": "markdown",
   "metadata": {},
   "source": [
    "### 8. Try improving your model further. Here are a few ideas:\n",
    "* try other machine learning algorithms\n",
    "* add other features besides the TF-IDF"
   ]
  },
  {
   "cell_type": "code",
   "execution_count": null,
   "metadata": {},
   "outputs": [],
   "source": []
  },
  {
   "cell_type": "markdown",
   "metadata": {},
   "source": [
    "### 9. Export your model as a pickle file"
   ]
  },
  {
   "cell_type": "code",
   "execution_count": null,
   "metadata": {},
   "outputs": [],
   "source": []
  },
  {
   "cell_type": "markdown",
   "metadata": {},
   "source": [
    "### 10. Use this notebook to complete `train.py`\n",
    "Use the template file attached in the Resources folder to write a script that runs the steps above to create a database and export a model based on a new dataset specified by the user."
   ]
  },
  {
   "cell_type": "code",
   "execution_count": null,
   "metadata": {},
   "outputs": [],
   "source": []
  }
 ],
 "metadata": {
  "kernelspec": {
   "display_name": "Python 3.9.5 ('env2')",
   "language": "python",
   "name": "python3"
  },
  "language_info": {
   "codemirror_mode": {
    "name": "ipython",
    "version": 3
   },
   "file_extension": ".py",
   "mimetype": "text/x-python",
   "name": "python",
   "nbconvert_exporter": "python",
   "pygments_lexer": "ipython3",
   "version": "3.9.5"
  },
  "vscode": {
   "interpreter": {
    "hash": "0273359becca1f4010586d28a12d4f1777d8dfdd7294c1564a95621ea6448071"
   }
  }
 },
 "nbformat": 4,
 "nbformat_minor": 2
}
